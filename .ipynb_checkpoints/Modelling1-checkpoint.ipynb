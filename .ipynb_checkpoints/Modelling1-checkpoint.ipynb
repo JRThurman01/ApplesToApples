{
 "cells": [
  {
   "cell_type": "code",
   "execution_count": 1,
   "metadata": {},
   "outputs": [],
   "source": [
    "import numpy as np\n",
    "import pandas as pd\n",
    "import tensorflow as tf\n",
    "from matplotlib import pyplot as plt\n",
    "\n",
    "from fruit_data import get_data, filelist_from_directory, create_dataset "
   ]
  },
  {
   "cell_type": "code",
   "execution_count": 2,
   "metadata": {},
   "outputs": [
    {
     "name": "stdout",
     "output_type": "stream",
     "text": [
      "Data load complete\n"
     ]
    }
   ],
   "source": [
    "filelist = pd.read_csv('./Dataset_index/limited_training_5000_records.csv' )\n",
    "X,y = create_dataset(filelist)\n",
    "print('Data load complete')"
   ]
  },
  {
   "cell_type": "code",
   "execution_count": 3,
   "metadata": {},
   "outputs": [
    {
     "data": {
      "text/plain": [
       "LabelEncoder()"
      ]
     },
     "execution_count": 3,
     "metadata": {},
     "output_type": "execute_result"
    }
   ],
   "source": [
    "from sklearn.preprocessing import LabelEncoder\n",
    "label_encoder = LabelEncoder()\n",
    "label_encoder.fit(y)"
   ]
  },
  {
   "cell_type": "code",
   "execution_count": 74,
   "metadata": {},
   "outputs": [],
   "source": [
    "from sklearn.model_selection import train_test_split\n",
    "\n",
    "X_train, X_val, y_train, y_val = train_test_split(X, y)\n",
    "\n",
    "X_train = X_train/255\n",
    "X_val = X_val/255\n",
    "y_train = label_encoder.transform(y_train)\n",
    "y_val = label_encoder.transform(y_val)\n"
   ]
  },
  {
   "cell_type": "markdown",
   "metadata": {},
   "source": [
    "### Model 1 - Conv NN"
   ]
  },
  {
   "cell_type": "code",
   "execution_count": 5,
   "metadata": {
    "scrolled": false
   },
   "outputs": [],
   "source": [
    "from tensorflow.keras.models import Sequential\n",
    "from tensorflow.keras.layers import Dense, Conv2D, MaxPooling2D, Dropout, Flatten\n",
    "\n",
    "#Define a model:\n",
    "model = Sequential()\n",
    "model.add(Conv2D(32, (3, 3), padding='same', activation='relu', input_shape=(100,100,3)))\n",
    "model.add(Conv2D(32, (3, 3), activation='relu'))\n",
    "model.add(MaxPooling2D(pool_size=(2, 2)))\n",
    "model.add(Dropout(0.25))\n",
    "\n",
    "model.add(Flatten())\n",
    "model.add(Dense(512, activation='relu'))\n",
    "model.add(Dropout(0.5))\n",
    "model.add(Dense(95, activation='softmax'))\n",
    "     \n",
    "model.compile(optimizer='rmsprop',\n",
    "              loss='sparse_categorical_crossentropy',\n",
    "              metrics=['accuracy'])  \n",
    "\n",
    "model.summary()"
   ]
  },
  {
   "cell_type": "code",
   "execution_count": 6,
   "metadata": {},
   "outputs": [
    {
     "name": "stdout",
     "output_type": "stream",
     "text": [
      "Train on 3750 samples, validate on 1250 samples\n",
      "Epoch 1/20\n",
      "3750/3750 [==============================] - 83s 22ms/step - loss: 3.0652 - acc: 0.3376 - val_loss: 1.3510 - val_acc: 0.6216\n",
      "Epoch 2/20\n",
      "3750/3750 [==============================] - 12s 3ms/step - loss: 0.7742 - acc: 0.7843 - val_loss: 0.3674 - val_acc: 0.8856\n",
      "Epoch 3/20\n",
      "3750/3750 [==============================] - 12s 3ms/step - loss: 0.3378 - acc: 0.9043 - val_loss: 0.3123 - val_acc: 0.9048\n",
      "Epoch 4/20\n",
      "3750/3750 [==============================] - 12s 3ms/step - loss: 0.1809 - acc: 0.9480 - val_loss: 0.1207 - val_acc: 0.9624\n",
      "Epoch 5/20\n",
      "3750/3750 [==============================] - 12s 3ms/step - loss: 0.1365 - acc: 0.9621 - val_loss: 0.4010 - val_acc: 0.8872\n",
      "Epoch 6/20\n",
      "3750/3750 [==============================] - 12s 3ms/step - loss: 0.1259 - acc: 0.9675 - val_loss: 0.1198 - val_acc: 0.9672\n",
      "Epoch 7/20\n",
      "3750/3750 [==============================] - 12s 3ms/step - loss: 0.0883 - acc: 0.9765 - val_loss: 0.1298 - val_acc: 0.9632\n",
      "Epoch 8/20\n",
      "3750/3750 [==============================] - 12s 3ms/step - loss: 0.0876 - acc: 0.9781 - val_loss: 0.1075 - val_acc: 0.9680\n",
      "Epoch 9/20\n",
      "3750/3750 [==============================] - 12s 3ms/step - loss: 0.0665 - acc: 0.9813 - val_loss: 0.5967 - val_acc: 0.8824\n",
      "Epoch 10/20\n",
      "3750/3750 [==============================] - 12s 3ms/step - loss: 0.0673 - acc: 0.9816 - val_loss: 0.0956 - val_acc: 0.9736\n",
      "Epoch 11/20\n",
      "3750/3750 [==============================] - 12s 3ms/step - loss: 0.0639 - acc: 0.9861 - val_loss: 0.0972 - val_acc: 0.9760\n",
      "Epoch 12/20\n",
      "3750/3750 [==============================] - 12s 3ms/step - loss: 0.0616 - acc: 0.9848 - val_loss: 0.1209 - val_acc: 0.9744\n",
      "Epoch 13/20\n",
      "3750/3750 [==============================] - 12s 3ms/step - loss: 0.0649 - acc: 0.9827 - val_loss: 0.1160 - val_acc: 0.9688\n",
      "Epoch 14/20\n",
      "3750/3750 [==============================] - 12s 3ms/step - loss: 0.0577 - acc: 0.9861 - val_loss: 0.1264 - val_acc: 0.9712\n",
      "Epoch 15/20\n",
      "3750/3750 [==============================] - 12s 3ms/step - loss: 0.0452 - acc: 0.9893 - val_loss: 0.3226 - val_acc: 0.9496\n",
      "Epoch 16/20\n",
      "3750/3750 [==============================] - 12s 3ms/step - loss: 0.0423 - acc: 0.9912 - val_loss: 0.1085 - val_acc: 0.9744\n",
      "Epoch 17/20\n",
      "3750/3750 [==============================] - 12s 3ms/step - loss: 0.0498 - acc: 0.9883 - val_loss: 0.1172 - val_acc: 0.9744\n",
      "Epoch 18/20\n",
      "3750/3750 [==============================] - 12s 3ms/step - loss: 0.0477 - acc: 0.9893 - val_loss: 0.1374 - val_acc: 0.9768\n",
      "Epoch 19/20\n",
      "3750/3750 [==============================] - 12s 3ms/step - loss: 0.0812 - acc: 0.9880 - val_loss: 0.1817 - val_acc: 0.9680\n",
      "Epoch 20/20\n",
      "3750/3750 [==============================] - 12s 3ms/step - loss: 0.0448 - acc: 0.9917 - val_loss: 0.1382 - val_acc: 0.9696\n",
      "1250/1250 [==============================] - 1s 746us/step\n"
     ]
    },
    {
     "data": {
      "text/plain": [
       "[0.13823254687097797, 0.9696]"
      ]
     },
     "execution_count": 6,
     "metadata": {},
     "output_type": "execute_result"
    }
   ],
   "source": [
    "history = model.fit(X_train, y_train,\n",
    "                    validation_data = (X_val, y_val),\n",
    "                    epochs=20)"
   ]
  },
  {
   "cell_type": "code",
   "execution_count": 8,
   "metadata": {},
   "outputs": [
    {
     "name": "stdout",
     "output_type": "stream",
     "text": [
      "1000/1000 [==============================] - 1s 1ms/step\n"
     ]
    },
    {
     "data": {
      "text/plain": [
       "[0.6231604173266097, 0.909]"
      ]
     },
     "execution_count": 8,
     "metadata": {},
     "output_type": "execute_result"
    }
   ],
   "source": [
    "filelist_test = pd.read_csv('./Dataset_index/limited_testing_1000_records.csv' )\n",
    "X_test2,y_test2 = create_dataset(filelist_test)\n",
    "\n",
    "X_test2 = X_test2/255\n",
    "y_test2 = label_encoder.transform(y_test2)\n"
   ]
  },
  {
   "cell_type": "code",
   "execution_count": null,
   "metadata": {},
   "outputs": [],
   "source": [
    "model.evaluate(X_test2, y_test2)"
   ]
  },
  {
   "cell_type": "code",
   "execution_count": 15,
   "metadata": {},
   "outputs": [],
   "source": [
    "# Loss Curves\n",
    "def plt_history(history):\n",
    "    plt.figure(figsize=[20,8]);\n",
    "    plt.subplot(1,2,1)\n",
    "\n",
    "    plt.plot(history.history['loss'],'r',linewidth=3.0);\n",
    "    plt.plot(history.history['val_loss'],'b',linewidth=3.0);\n",
    "    plt.legend(['Training loss', 'Validation Loss'],fontsize=18);\n",
    "    plt.xlabel('Epochs ',fontsize=16);\n",
    "    plt.ylabel('Loss',fontsize=16);\n",
    "    plt.title('Loss Curves',fontsize=16);\n",
    "\n",
    "    # Accuracy Curves\n",
    "    plt.subplot(1,2,2)\n",
    "    plt.plot(history.history['acc'],'r',linewidth=3.0);\n",
    "    plt.plot(history.history['val_acc'],'b',linewidth=3.0);\n",
    "    plt.legend(['Training Accuracy', 'Validation Accuracy'],fontsize=18);\n",
    "    plt.xlabel('Epochs ',fontsize=16);\n",
    "    plt.ylabel('Accuracy',fontsize=16);\n",
    "    plt.title('Accuracy Curves',fontsize=16);\n"
   ]
  },
  {
   "cell_type": "code",
   "execution_count": 16,
   "metadata": {},
   "outputs": [
    {
     "data": {
      "image/png": "[encoded data removed]",
      "text/plain": [
       "<Figure size 1440x576 with 2 Axes>"
      ]
     },
     "metadata": {
      "needs_background": "light"
     },
     "output_type": "display_data"
    }
   ],
   "source": [
    "plt_history(history)"
   ]
  },
  {
   "cell_type": "markdown",
   "metadata": {},
   "source": [
    "### Model 2 - Mobilenet transfer learning model"
   ]
  },
  {
   "cell_type": "code",
   "execution_count": 17,
   "metadata": {},
   "outputs": [
    {
     "name": "stderr",
     "output_type": "stream",
     "text": [
      "WARNING: Logging before flag parsing goes to stderr.\n",
      "W0311 15:00:25.214005   208 __init__.py:56] Some hub symbols are not available because TensorFlow version is less than 1.14\n"
     ]
    }
   ],
   "source": [
    "import tensorflow_hub as hub\n",
    "#30s to load the model\n",
    "module = hub.Module('https://tfhub.dev/google/imagenet/mobilenet_v2_100_128/feature_vector/2', trainable=True)\n"
   ]
  },
  {
   "cell_type": "code",
   "execution_count": 20,
   "metadata": {},
   "outputs": [
    {
     "name": "stdout",
     "output_type": "stream",
     "text": [
      "{'images': <hub.ParsedTensorInfo shape=(?, 128, 128, 3) dtype=float32 is_sparse=False>}\n",
      "{'default': <hub.ParsedTensorInfo shape=(?, 1280) dtype=float32 is_sparse=False>}\n",
      "[128, 128]\n"
     ]
    }
   ],
   "source": [
    "print(module.get_input_info_dict())\n",
    "print(module.get_output_info_dict())\n",
    "IMAGE_SIZE = hub.get_expected_image_size(hub.Module('https://tfhub.dev/google/imagenet/mobilenet_v2_100_128/feature_vector/2'))\n",
    "print(IMAGE_SIZE)"
   ]
  },
  {
   "cell_type": "code",
   "execution_count": 23,
   "metadata": {},
   "outputs": [
    {
     "name": "stdout",
     "output_type": "stream",
     "text": [
      "INFO:tensorflow:Saver not created because there are no variables in the graph to restore\n"
     ]
    },
    {
     "name": "stderr",
     "output_type": "stream",
     "text": [
      "I0311 15:51:57.748294   208 tf_logging.py:115] Saver not created because there are no variables in the graph to restore\n"
     ]
    },
    {
     "name": "stdout",
     "output_type": "stream",
     "text": [
      "_________________________________________________________________\n",
      "Layer (type)                 Output Shape              Param #   \n",
      "=================================================================\n",
      "lambda_1 (Lambda)            (None, 1280)              0         \n",
      "_________________________________________________________________\n",
      "dense_2 (Dense)              (None, 95)                121695    \n",
      "=================================================================\n",
      "Total params: 121,695\n",
      "Trainable params: 121,695\n",
      "Non-trainable params: 0\n",
      "_________________________________________________________________\n"
     ]
    }
   ],
   "source": [
    "FeatureVector128 = tf.keras.layers.Lambda(module, input_shape = IMAGE_SIZE+[3])\n",
    "model2 = tf.keras.Sequential([FeatureVector128])\n",
    "model2.add(Dense(95, activation='softmax'))\n",
    "model2.summary()\n",
    "\n",
    "\n",
    "#from sklearn.skimage.transform import resize\n",
    "#X_train_128 = resize(X_train, (3750, 128, 218, 3), anti_aliasing=True)\n",
    "\n"
   ]
  },
  {
   "cell_type": "code",
   "execution_count": 37,
   "metadata": {},
   "outputs": [],
   "source": [
    "import tensorflow.keras.backend as K\n",
    "sess = K.get_session()\n",
    "init = tf.global_variables_initializer()\n",
    "\n",
    "sess.run(init)"
   ]
  },
  {
   "cell_type": "code",
   "execution_count": 61,
   "metadata": {},
   "outputs": [],
   "source": [
    "import numpy as np\n",
    "import PIL.Image as Image\n",
    "\n",
    "image1 = X_train[0:10,:]\n",
    "image1 = tf.image.resize_images(image1, (128,128))\n"
   ]
  },
  {
   "cell_type": "code",
   "execution_count": 67,
   "metadata": {},
   "outputs": [
    {
     "name": "stdout",
     "output_type": "stream",
     "text": [
      "_________________________________________________________________\n",
      "Layer (type)                 Output Shape              Param #   \n",
      "=================================================================\n",
      "lambda_1 (Lambda)            (None, 1280)              0         \n",
      "_________________________________________________________________\n",
      "dense_2 (Dense)              (None, 95)                121695    \n",
      "=================================================================\n",
      "Total params: 121,695\n",
      "Trainable params: 121,695\n",
      "Non-trainable params: 0\n",
      "_________________________________________________________________\n"
     ]
    }
   ],
   "source": [
    "model2.compile(optimizer='rmsprop',\n",
    "              loss='sparse_categorical_crossentropy',\n",
    "              metrics=['accuracy'])  \n",
    "\n",
    "model2.summary()"
   ]
  },
  {
   "cell_type": "code",
   "execution_count": 64,
   "metadata": {},
   "outputs": [
    {
     "data": {
      "text/plain": [
       "array([79, 21, 94, 29, 10, 31, 79, 80, 66, 31], dtype=int64)"
      ]
     },
     "execution_count": 64,
     "metadata": {},
     "output_type": "execute_result"
    }
   ],
   "source": [
    "model2.predict_classes(image1.eval(session=sess))"
   ]
  },
  {
   "cell_type": "code",
   "execution_count": 84,
   "metadata": {},
   "outputs": [],
   "source": [
    "n = 1000\n",
    "X_train128 = tf.image.resize_images(X_train[0:n,:], (128,128)).eval(session=sess)\n",
    "y_train128 = y_train[0:n]\n"
   ]
  },
  {
   "cell_type": "code",
   "execution_count": 85,
   "metadata": {},
   "outputs": [
    {
     "name": "stdout",
     "output_type": "stream",
     "text": [
      "Epoch 1/20\n",
      "1000/1000 [==============================] - 7s 7ms/step - loss: 2.2233 - acc: 0.6400A: 9s - loss: 2.9169\n",
      "Epoch 2/20\n",
      "1000/1000 [==============================] - 2s 2ms/step - loss: 0.6504 - acc: 0.8540\n",
      "Epoch 3/20\n",
      "1000/1000 [==============================] - 1s 1ms/step - loss: 0.3075 - acc: 0.9520\n",
      "Epoch 4/20\n",
      "1000/1000 [==============================] - 1s 1ms/step - loss: 0.1646 - acc: 0.9820\n",
      "Epoch 5/20\n",
      "1000/1000 [==============================] - 1s 1ms/step - loss: 0.1008 - acc: 0.9910\n",
      "Epoch 6/20\n",
      "1000/1000 [==============================] - 1s 1ms/step - loss: 0.0645 - acc: 0.9950A: 0s - loss: 0.0625 - a\n",
      "Epoch 7/20\n",
      "1000/1000 [==============================] - 1s 1ms/step - loss: 0.0432 - acc: 0.9960\n",
      "Epoch 8/20\n",
      "1000/1000 [==============================] - 1s 1ms/step - loss: 0.0289 - acc: 0.9980A: 0s - loss: 0.0283 - acc: 0.999\n",
      "Epoch 9/20\n",
      "1000/1000 [==============================] - 1s 1ms/step - loss: 0.0201 - acc: 0.9990\n",
      "Epoch 10/20\n",
      "1000/1000 [==============================] - 1s 1ms/step - loss: 0.0149 - acc: 0.9990\n",
      "Epoch 11/20\n",
      "1000/1000 [==============================] - 1s 1ms/step - loss: 0.0105 - acc: 1.0000\n",
      "Epoch 12/20\n",
      "1000/1000 [==============================] - 1s 1ms/step - loss: 0.0081 - acc: 0.9990\n",
      "Epoch 13/20\n",
      "1000/1000 [==============================] - 1s 1ms/step - loss: 0.0056 - acc: 1.0000\n",
      "Epoch 14/20\n",
      "1000/1000 [==============================] - 1s 1ms/step - loss: 0.0044 - acc: 1.0000\n",
      "Epoch 15/20\n",
      "1000/1000 [==============================] - 1s 1ms/step - loss: 0.0039 - acc: 1.0000\n",
      "Epoch 16/20\n",
      "1000/1000 [==============================] - 1s 1ms/step - loss: 0.0027 - acc: 1.0000\n",
      "Epoch 17/20\n",
      "1000/1000 [==============================] - 1s 1ms/step - loss: 0.0023 - acc: 1.0000A: 0s - loss: 0.0028 - ac\n",
      "Epoch 18/20\n",
      "1000/1000 [==============================] - 1s 1ms/step - loss: 0.0017 - acc: 1.0000\n",
      "Epoch 19/20\n",
      "1000/1000 [==============================] - 1s 1ms/step - loss: 0.0013 - acc: 1.0000\n",
      "Epoch 20/20\n",
      "1000/1000 [==============================] - 1s 1ms/step - loss: 9.8941e-04 - acc: 1.0000\n"
     ]
    }
   ],
   "source": [
    "history = model2.fit(X_train128, y_train128,\n",
    "                    epochs=20)"
   ]
  },
  {
   "cell_type": "code",
   "execution_count": 86,
   "metadata": {},
   "outputs": [
    {
     "name": "stdout",
     "output_type": "stream",
     "text": [
      "1000/1000 [==============================] - 60s 60ms/step\n"
     ]
    },
    {
     "data": {
      "text/plain": [
       "[0.9690935225486755, 0.835]"
      ]
     },
     "execution_count": 86,
     "metadata": {},
     "output_type": "execute_result"
    }
   ],
   "source": [
    "n = 1000\n",
    "X_test128 = tf.image.resize_images(X_test[0:n,:], (128,128)).eval(session=sess)\n",
    "y_test128 = y_test[0:n]\n"
   ]
  },
  {
   "cell_type": "code",
   "execution_count": 88,
   "metadata": {},
   "outputs": [
    {
     "name": "stdout",
     "output_type": "stream",
     "text": [
      "1000/1000 [==============================] - 10s 10ms/step\n"
     ]
    },
    {
     "data": {
      "text/plain": [
       "[0.12298622658848762, 0.964]"
      ]
     },
     "execution_count": 88,
     "metadata": {},
     "output_type": "execute_result"
    }
   ],
   "source": [
    "model2.evaluate(X_test128, y_test128)"
   ]
  },
  {
   "cell_type": "code",
   "execution_count": 90,
   "metadata": {},
   "outputs": [
    {
     "name": "stderr",
     "output_type": "stream",
     "text": [
      "Using TensorFlow backend.\n"
     ]
    }
   ],
   "source": [
    "from keras.datasets import cifar100"
   ]
  },
  {
   "cell_type": "code",
   "execution_count": 91,
   "metadata": {},
   "outputs": [
    {
     "name": "stdout",
     "output_type": "stream",
     "text": [
      "Downloading data from https://www.cs.toronto.edu/~kriz/cifar-100-python.tar.gz\n",
      "169009152/169001437 [==============================] - 116s 1us/step\n"
     ]
    }
   ],
   "source": [
    "(X_cifar_train, y_cifar_train), (X_cifar_test, y_cifar_test) = cifar100.load_data()"
   ]
  },
  {
   "cell_type": "code",
   "execution_count": 110,
   "metadata": {},
   "outputs": [],
   "source": [
    "apples = X_cifar_train[(y_cifar_train==0)[:,0],:,:,:]"
   ]
  },
  {
   "cell_type": "code",
   "execution_count": 116,
   "metadata": {},
   "outputs": [],
   "source": [
    "n = 500\n",
    "apples_test128 = tf.image.resize_images(X_test[0:n,:], (128,128)).eval(session=sess)\n",
    "\n"
   ]
  },
  {
   "cell_type": "code",
   "execution_count": 118,
   "metadata": {},
   "outputs": [
    {
     "data": {
      "text/plain": [
       "array(['Banana Lady Finger', 'Banana', 'Banana', 'Apricot',\n",
       "       'Tomato Cherry Red', 'Mulberry', 'Tomato 4', 'Limes', 'Dates',\n",
       "       'Cherry Rainier', 'Pear Monster', 'Grape Pink', 'Nectarine',\n",
       "       'Cherry Rainier', 'Pear', 'Grape Pink', 'Tomato 1', 'Maracuja',\n",
       "       'Cherry Wax Red', 'Tamarillo', 'Tomato Cherry Red',\n",
       "       'Cherry Rainier', 'Clementine', 'Pineapple', 'Strawberry',\n",
       "       'Redcurrant', 'Clementine', 'Apple Granny Smith', 'Mango',\n",
       "       'Apricot', 'Tomato 2', 'Passion Fruit', 'Banana', 'Guava',\n",
       "       'Chestnut', 'Apple Golden 3', 'Passion Fruit', 'Physalis',\n",
       "       'Tomato 2', 'Pear Monster', 'Lemon', 'Tomato Cherry Red', 'Orange',\n",
       "       'Tomato Cherry Red', 'Huckleberry', 'Apple Granny Smith',\n",
       "       'Passion Fruit', 'Cherry Rainier', 'Cherry 1', 'Pear Monster',\n",
       "       'Nectarine', 'Peach 2', 'Tomato Cherry Red', 'Hazelnut',\n",
       "       'Huckleberry', 'Tomato 2', 'Grapefruit Pink', 'Peach Flat', 'Pear',\n",
       "       'Cherry 1', 'Pitahaya Red', 'Cocos', 'Strawberry Wedge',\n",
       "       'Mandarine', 'Walnut', 'Tomato 2', 'Pear Monster', 'Grape White',\n",
       "       'Grape Blue', 'Peach 2', 'Peach', 'Pear Williams', 'Grape Blue',\n",
       "       'Granadilla', 'Apple Red 2', 'Apricot', 'Papaya', 'Banana',\n",
       "       'Pomelo Sweetie', 'Avocado ripe', 'Strawberry', 'Pear Monster',\n",
       "       'Physalis', 'Strawberry Wedge', 'Granadilla', 'Plum 2', 'Peach 2',\n",
       "       'Cocos', 'Apple Golden 2', 'Cactus fruit', 'Walnut',\n",
       "       'Banana Lady Finger', 'Orange', 'Tangelo', 'Mandarine',\n",
       "       'Carambula', 'Clementine', 'Plum 3', 'Peach', 'Cocos', 'Tomato 4',\n",
       "       'Papaya', 'Redcurrant', 'Cantaloupe 1', 'Mango', 'Physalis',\n",
       "       'Rambutan', 'Apple Red 3', 'Walnut', 'Mandarine', 'Dates',\n",
       "       'Pepino', 'Grape White 3', 'Apple Granny Smith', 'Hazelnut',\n",
       "       'Pear Kaiser', 'Mulberry', 'Apple Braeburn', 'Grapefruit White',\n",
       "       'Grape White', 'Apple Golden 1', 'Pomegranate', 'Tomato 1',\n",
       "       'Granadilla', 'Grape White', 'Cactus fruit', 'Apple Granny Smith',\n",
       "       'Pear', 'Avocado ripe', 'Apple Red Yellow 1', 'Peach', 'Walnut',\n",
       "       'Grapefruit Pink', 'Passion Fruit', 'Melon Piel de Sapo',\n",
       "       'Apple Braeburn', 'Plum', 'Grape Blue', 'Cherry Wax Black',\n",
       "       'Maracuja', 'Tomato 3', 'Guava', 'Grapefruit Pink', 'Guava',\n",
       "       'Melon Piel de Sapo', 'Mulberry', 'Tangelo', 'Carambula',\n",
       "       'Grape White 3', 'Redcurrant', 'Tomato Maroon', 'Rambutan',\n",
       "       'Physalis with Husk', 'Pear', 'Plum 2', 'Cherry Rainier',\n",
       "       'Apple Red 3', 'Tomato 2', 'Tomato 2', 'Pineapple Mini',\n",
       "       'Tomato 4', 'Strawberry Wedge', 'Plum 3', 'Walnut',\n",
       "       'Pomelo Sweetie', 'Cherry 1', 'Rambutan', 'Avocado ripe',\n",
       "       'Strawberry', 'Apple Braeburn', 'Mandarine', 'Tamarillo', 'Lychee',\n",
       "       'Cherry Rainier', 'Tomato 3', 'Physalis with Husk', 'Tamarillo',\n",
       "       'Apple Golden 1', 'Granadilla', 'Mulberry', 'Apple Red 2',\n",
       "       'Tomato 2', 'Salak', 'Tangelo', 'Chestnut', 'Pear Abate',\n",
       "       'Mulberry', 'Avocado ripe', 'Mulberry', 'Avocado', 'Mandarine',\n",
       "       'Pineapple', 'Grape Blue', 'Cherry Rainier', 'Clementine',\n",
       "       'Orange', 'Papaya', 'Pear', 'Pineapple Mini', 'Apple Red Yellow 2',\n",
       "       'Quince', 'Dates', 'Apple Red 2', 'Physalis with Husk',\n",
       "       'Melon Piel de Sapo', 'Plum 3', 'Cherry Rainier',\n",
       "       'Apple Red Yellow 2', 'Apple Golden 2', 'Banana Red', 'Peach',\n",
       "       'Apple Golden 1', 'Guava', 'Chestnut', 'Pitahaya Red', 'Pepino',\n",
       "       'Lemon Meyer', 'Plum', 'Peach Flat', 'Guava', 'Mandarine',\n",
       "       'Grapefruit Pink', 'Grape White 2', 'Grape White 2',\n",
       "       'Passion Fruit', 'Apple Red 2', 'Avocado ripe', 'Avocado',\n",
       "       'Cherry Wax Black', 'Lychee', 'Plum 3', 'Cactus fruit', 'Kaki',\n",
       "       'Melon Piel de Sapo', 'Banana Lady Finger', 'Tangelo',\n",
       "       'Pitahaya Red', 'Kumquats', 'Banana', 'Dates', 'Kiwi',\n",
       "       'Strawberry', 'Cherry 1', 'Apple Red 2', 'Plum', 'Apple Golden 3',\n",
       "       'Mangostan', 'Apple Braeburn', 'Cherry 2', 'Apricot', 'Mandarine',\n",
       "       'Apple Red Yellow 2', 'Grape Blue', 'Apple Golden 1',\n",
       "       'Apple Granny Smith', 'Grape White 2', 'Pear Monster',\n",
       "       'Grape Blue', 'Tomato 3', 'Walnut', 'Apple Red Yellow 2',\n",
       "       'Avocado', 'Cherry Wax Black', 'Pear Kaiser', 'Cherry 2',\n",
       "       'Cherry Wax Yellow', 'Mandarine', 'Pear Williams', 'Kiwi',\n",
       "       'Banana Red', 'Tomato 3', 'Plum', 'Peach Flat', 'Pitahaya Red',\n",
       "       'Mandarine', 'Tomato 1', 'Grape Pink', 'Grape Blue',\n",
       "       'Apple Golden 3', 'Cherry Wax Yellow', 'Avocado', 'Huckleberry',\n",
       "       'Dates', 'Maracuja', 'Pear Kaiser', 'Grape Pink', 'Cherry 1',\n",
       "       'Lemon Meyer', 'Plum 3', 'Apple Red 2', 'Hazelnut',\n",
       "       'Grape White 2', 'Plum', 'Tomato Cherry Red', 'Tomato 3',\n",
       "       'Cherry Wax Red', 'Apple Red 2', 'Grape White 3', 'Apple Red 2',\n",
       "       'Peach', 'Pomegranate', 'Kiwi', 'Carambula', 'Melon Piel de Sapo',\n",
       "       'Cantaloupe 2', 'Kumquats', 'Cocos', 'Pear', 'Apple Red Delicious',\n",
       "       'Rambutan', 'Rambutan', 'Carambula', 'Cocos', 'Pineapple Mini',\n",
       "       'Hazelnut', 'Cherry Wax Yellow', 'Banana Red', 'Limes', 'Hazelnut',\n",
       "       'Tamarillo', 'Pear Monster', 'Grape Blue', 'Pitahaya Red',\n",
       "       'Physalis', 'Grape Blue', 'Pepino', 'Pear Williams', 'Cocos',\n",
       "       'Cantaloupe 1', 'Apple Red 2', 'Pepino', 'Tomato 3', 'Mandarine',\n",
       "       'Tomato Maroon', 'Pear Williams', 'Apple Red Yellow 1',\n",
       "       'Cherry Rainier', 'Cherry Rainier', 'Mangostan', 'Tomato 1',\n",
       "       'Apple Golden 3', 'Lemon', 'Melon Piel de Sapo', 'Cherry Rainier',\n",
       "       'Apple Red Delicious', 'Kiwi', 'Limes', 'Grapefruit White',\n",
       "       'Melon Piel de Sapo', 'Grape White 4', 'Apple Granny Smith',\n",
       "       'Cherry Wax Yellow', 'Kumquats', 'Grapefruit White',\n",
       "       'Tomato Maroon', 'Apple Golden 2', 'Peach', 'Cherry 2',\n",
       "       'Grape White 2', 'Pear Williams', 'Cherry Rainier', 'Pear Kaiser',\n",
       "       'Pitahaya Red', 'Apple Braeburn', 'Passion Fruit', 'Banana',\n",
       "       'Apple Red Yellow 2', 'Cactus fruit', 'Hazelnut', 'Tamarillo',\n",
       "       'Carambula', 'Walnut', 'Apple Red Yellow 1', 'Kiwi',\n",
       "       'Banana Lady Finger', 'Cherry Wax Yellow', 'Cherry 1', 'Cherry 2',\n",
       "       'Cantaloupe 2', 'Cantaloupe 2', 'Apple Red Delicious',\n",
       "       'Strawberry Wedge', 'Cactus fruit', 'Grape Blue', 'Apple Braeburn',\n",
       "       'Tomato Maroon', 'Tomato 2', 'Cherry 2', 'Maracuja', 'Kiwi',\n",
       "       'Tomato 1', 'Pomegranate', 'Physalis with Husk', 'Banana Red',\n",
       "       'Cactus fruit', 'Granadilla', 'Limes', 'Pear Kaiser',\n",
       "       'Cactus fruit', 'Pepino', 'Carambula', 'Apple Red 2',\n",
       "       'Apple Golden 2', 'Plum', 'Grape Blue', 'Tomato 1', 'Lemon Meyer',\n",
       "       'Quince', 'Cherry Rainier', 'Cherry 1', 'Grape White 4',\n",
       "       'Strawberry Wedge', 'Tangelo', 'Papaya', 'Tomato 1', 'Guava',\n",
       "       'Tomato 4', 'Apple Red Yellow 1', 'Mangostan', 'Redcurrant',\n",
       "       'Cherry Wax Black', 'Clementine', 'Cherry Wax Yellow',\n",
       "       'Grape White 3', 'Grape White 3', 'Carambula', 'Rambutan',\n",
       "       'Apple Red Yellow 1', 'Apple Granny Smith', 'Melon Piel de Sapo',\n",
       "       'Tomato 4', 'Limes', 'Carambula', 'Pomegranate', 'Tomato 3',\n",
       "       'Peach', 'Apple Red 2', 'Physalis', 'Pear Kaiser', 'Hazelnut',\n",
       "       'Clementine', 'Apricot', 'Apple Braeburn', 'Huckleberry', 'Lemon',\n",
       "       'Pear Monster', 'Apple Red 2', 'Apricot', 'Kaki', 'Strawberry',\n",
       "       'Cocos', 'Cherry 2', 'Redcurrant', 'Pear Williams', 'Apple Red 1',\n",
       "       'Apple Braeburn', 'Mandarine', 'Pitahaya Red', 'Pineapple Mini',\n",
       "       'Tomato 1', 'Limes', 'Apple Braeburn', 'Hazelnut',\n",
       "       'Apple Braeburn', 'Avocado ripe', 'Quince', 'Cocos', 'Strawberry',\n",
       "       'Cherry 1', 'Tomato 1', 'Tamarillo', 'Carambula', 'Pitahaya Red',\n",
       "       'Pear Monster', 'Orange', 'Pomelo Sweetie', 'Melon Piel de Sapo',\n",
       "       'Strawberry', 'Salak', 'Pear Williams', 'Kumquats', 'Kaki',\n",
       "       'Apple Red 2', 'Plum 2', 'Apple Golden 3', 'Plum 2', 'Lemon Meyer',\n",
       "       'Clementine', 'Pear', 'Tomato Cherry Red', 'Mulberry',\n",
       "       'Grape White 3', 'Grape White 3', 'Passion Fruit', 'Pear Monster',\n",
       "       'Cactus fruit', 'Grape Pink', 'Cocos', 'Mandarine', 'Peach'],\n",
       "      dtype=object)"
      ]
     },
     "execution_count": 118,
     "metadata": {},
     "output_type": "execute_result"
    }
   ],
   "source": [
    "label_encoder.inverse_transform(model2.predict_classes(apples_test128))"
   ]
  },
  {
   "cell_type": "code",
   "execution_count": 94,
   "metadata": {},
   "outputs": [],
   "source": [
    "CIFAR100_LABELS_LIST = [\n",
    "    'apple', 'aquarium_fish', 'baby', 'bear', 'beaver', 'bed', 'bee', 'beetle', \n",
    "    'bicycle', 'bottle', 'bowl', 'boy', 'bridge', 'bus', 'butterfly', 'camel', \n",
    "    'can', 'castle', 'caterpillar', 'cattle', 'chair', 'chimpanzee', 'clock', \n",
    "    'cloud', 'cockroach', 'couch', 'crab', 'crocodile', 'cup', 'dinosaur', \n",
    "    'dolphin', 'elephant', 'flatfish', 'forest', 'fox', 'girl', 'hamster', \n",
    "    'house', 'kangaroo', 'keyboard', 'lamp', 'lawn_mower', 'leopard', 'lion',\n",
    "    'lizard', 'lobster', 'man', 'maple_tree', 'motorcycle', 'mountain', 'mouse',\n",
    "    'mushroom', 'oak_tree', 'orange', 'orchid', 'otter', 'palm_tree', 'pear',\n",
    "    'pickup_truck', 'pine_tree', 'plain', 'plate', 'poppy', 'porcupine',\n",
    "    'possum', 'rabbit', 'raccoon', 'ray', 'road', 'rocket', 'rose',\n",
    "    'sea', 'seal', 'shark', 'shrew', 'skunk', 'skyscraper', 'snail', 'snake',\n",
    "    'spider', 'squirrel', 'streetcar', 'sunflower', 'sweet_pepper', 'table',\n",
    "    'tank', 'telephone', 'television', 'tiger', 'tractor', 'train', 'trout',\n",
    "    'tulip', 'turtle', 'wardrobe', 'whale', 'willow_tree', 'wolf', 'woman',\n",
    "    'worm'\n",
    "]\n",
    "\n"
   ]
  },
  {
   "cell_type": "markdown",
   "metadata": {},
   "source": [
    "## For the bin"
   ]
  }
 ],
 "metadata": {
  "kernelspec": {
   "display_name": "Python 3",
   "language": "python",
   "name": "python3"
  },
  "language_info": {
   "codemirror_mode": {
    "name": "ipython",
    "version": 3
   },
   "file_extension": ".py",
   "mimetype": "text/x-python",
   "name": "python",
   "nbconvert_exporter": "python",
   "pygments_lexer": "ipython3",
   "version": "3.5.0"
  }
 },
 "nbformat": 4,
 "nbformat_minor": 2
}
