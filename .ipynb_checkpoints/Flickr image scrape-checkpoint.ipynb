{
 "cells": [
  {
   "cell_type": "code",
   "execution_count": 1,
   "metadata": {},
   "outputs": [],
   "source": [
    "import requests\n",
    "from urllib.request import urlopen\n",
    "from bs4 import BeautifulSoup"
   ]
  },
  {
   "cell_type": "code",
   "execution_count": 56,
   "metadata": {},
   "outputs": [
    {
     "name": "stdout",
     "output_type": "stream",
     "text": [
      "https://www.flickr.com/search/?text=apple\n"
     ]
    }
   ],
   "source": [
    "webstem = 'https://www.flickr.com/search/?text='\n",
    "fruit =['apple','banana']\n",
    " \n",
    "Url = webstem+'apple'\n",
    "print(Url)\n",
    "Page = urlopen(Url)"
   ]
  },
  {
   "cell_type": "code",
   "execution_count": 58,
   "metadata": {},
   "outputs": [],
   "source": [
    "soup = BeautifulSoup(Page, 'html.parser')"
   ]
  },
  {
   "cell_type": "code",
   "execution_count": 61,
   "metadata": {},
   "outputs": [
    {
     "data": {
      "text/plain": [
       "[]"
      ]
     },
     "execution_count": 61,
     "metadata": {},
     "output_type": "execute_result"
    }
   ],
   "source": [
    "soup.findAll('') #, attrs={'class': '\"overlay\"'},)"
   ]
  },
  {
   "cell_type": "code",
   "execution_count": null,
   "metadata": {},
   "outputs": [],
   "source": [
    "<a class=\"overlay\" href=\"/photos/1sock/7910673688/\" tabindex=\"0\" role=\"heading\" aria-level=\"3\" aria-label=\"Apples by 1sock\"></a>"
   ]
  },
  {
   "cell_type": "code",
   "execution_count": 55,
   "metadata": {},
   "outputs": [
    {
     "data": {
      "text/plain": [
       "b''"
      ]
     },
     "execution_count": 55,
     "metadata": {},
     "output_type": "execute_result"
    }
   ],
   "source": [
    "Page.read()"
   ]
  },
  {
   "cell_type": "code",
   "execution_count": 92,
   "metadata": {},
   "outputs": [],
   "source": [
    "from flickrapi import FlickrAPI\n",
    "import urllib\n",
    "import os\n",
    "\n",
    "flickr = FlickrAPI('7b05a21eee78a2b3d706dd3e37db1003', 'cc95efdb279ec149', format='parsed-json')"
   ]
  },
  {
   "cell_type": "code",
   "execution_count": 93,
   "metadata": {},
   "outputs": [],
   "source": [
    "fruits = ['apple', 'banana']\n",
    "local_drive = './data/flickr/'"
   ]
  },
  {
   "cell_type": "code",
   "execution_count": 96,
   "metadata": {},
   "outputs": [
    {
     "name": "stdout",
     "output_type": "stream",
     "text": [
      "https://farm8.staticflickr.com/7926/46649807994_7fc46fbaa3.jpg\n",
      "https://farm8.staticflickr.com/7922/47320130692_3162f1b0ed.jpg\n",
      "https://farm8.staticflickr.com/7811/47320120182_dc90a2a5e6.jpg\n",
      "https://farm8.staticflickr.com/7824/33496692978_1e1ce00ce2.jpg\n",
      "https://farm8.staticflickr.com/7924/40407361553_e56b9d4ae1.jpg\n",
      "https://farm8.staticflickr.com/7885/46649696964_67ed2c7424.jpg\n",
      "https://farm8.staticflickr.com/7857/46649369084_e0dd121fe5.jpg\n",
      "https://farm8.staticflickr.com/7848/47319695752_1b089c0c16.jpg\n",
      "https://farm8.staticflickr.com/7922/47372114271_e704299c35.jpg\n",
      "https://farm8.staticflickr.com/7919/46648337994_c576a509b6.jpg\n"
     ]
    }
   ],
   "source": [
    "for fruit in fruits: \n",
    "    if not os.path.exists(local_drive+fruit):\n",
    "        os.makedirs(local_drive+fruit)\n",
    "    \n",
    "    for page_no in range(1, 2):\n",
    "            photos = flickr.photos.search(text=fruit, per_page=5, page=page_no)['photos']['photo']\n",
    "            for photo in photos:\n",
    "                photo_url = f'https://farm{photo[\"farm\"]}.staticflickr.com/{photo[\"server\"]}/{photo[\"id\"]}_{photo[\"secret\"]}.jpg'\n",
    "                urllib.request.urlretrieve(photo_url, f'./data/flickr/{fruit}/{photo[\"title\"]}.jpg')\n",
    "                print(photo_url)\n",
    "            "
   ]
  },
  {
   "cell_type": "code",
   "execution_count": 78,
   "metadata": {},
   "outputs": [
    {
     "data": {
      "text/plain": [
       "[{'id': '46649807994',\n",
       "  'owner': '29293089@N05',\n",
       "  'secret': '7fc46fbaa3',\n",
       "  'server': '7926',\n",
       "  'farm': 8,\n",
       "  'title': 'Southdown line-up',\n",
       "  'ispublic': 1,\n",
       "  'isfriend': 0,\n",
       "  'isfamily': 0},\n",
       " {'id': '47320130692',\n",
       "  'owner': '145799685@N02',\n",
       "  'secret': '3162f1b0ed',\n",
       "  'server': '7922',\n",
       "  'farm': 8,\n",
       "  'title': '',\n",
       "  'ispublic': 1,\n",
       "  'isfriend': 0,\n",
       "  'isfamily': 0},\n",
       " {'id': '47320120182',\n",
       "  'owner': '52151580@N05',\n",
       "  'secret': 'dc90a2a5e6',\n",
       "  'server': '7811',\n",
       "  'farm': 8,\n",
       "  'title': 'Apples Left on Tree',\n",
       "  'ispublic': 1,\n",
       "  'isfriend': 0,\n",
       "  'isfamily': 0},\n",
       " {'id': '33496692978',\n",
       "  'owner': '52151580@N05',\n",
       "  'secret': '1e1ce00ce2',\n",
       "  'server': '7824',\n",
       "  'farm': 8,\n",
       "  'title': 'Apples Left on Tree',\n",
       "  'ispublic': 1,\n",
       "  'isfriend': 0,\n",
       "  'isfamily': 0},\n",
       " {'id': '40407361553',\n",
       "  'owner': '74939715@N05',\n",
       "  'secret': 'e56b9d4ae1',\n",
       "  'server': '7924',\n",
       "  'farm': 8,\n",
       "  'title': 'St. Joseph Ice',\n",
       "  'ispublic': 1,\n",
       "  'isfriend': 0,\n",
       "  'isfamily': 0}]"
      ]
     },
     "execution_count": 78,
     "metadata": {},
     "output_type": "execute_result"
    }
   ],
   "source": [
    "photos"
   ]
  }
 ],
 "metadata": {
  "kernelspec": {
   "display_name": "Python 3",
   "language": "python",
   "name": "python3"
  },
  "language_info": {
   "codemirror_mode": {
    "name": "ipython",
    "version": 3
   },
   "file_extension": ".py",
   "mimetype": "text/x-python",
   "name": "python",
   "nbconvert_exporter": "python",
   "pygments_lexer": "ipython3",
   "version": "3.7.1"
  }
 },
 "nbformat": 4,
 "nbformat_minor": 2
}
