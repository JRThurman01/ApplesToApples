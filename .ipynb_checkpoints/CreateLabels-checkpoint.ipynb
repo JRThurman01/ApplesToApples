{
 "cells": [
  {
   "cell_type": "code",
   "execution_count": 1,
   "metadata": {},
   "outputs": [],
   "source": [
    "import numpy as np\n",
    "import pandas as pd\n",
    "import tensorflow as tf\n",
    "from os import listdir\n",
    "import matplotlib.image as mpimg"
   ]
  },
  {
   "cell_type": "code",
   "execution_count": 37,
   "metadata": {},
   "outputs": [],
   "source": [
    "from sklearn.preprocessing import LabelEncoder\n",
    "\n",
    "def getdata():\n",
    "\n",
    "    X_train, y_train = array_from_directory('./data/fruits/fruits-360/Training',10000)\n",
    "    X_test, y_test = array_from_directory('./data/fruits/fruits-360/Training',10000)\n",
    "    \n",
    "    LE=LabelEncoder()\n",
    "    y_train = LE.fit_transform(y_train)\n",
    "    y_test = LE.transform(y_test)\n",
    "    \n",
    "    return X_train, X_test, y_train, y_test\n"
   ]
  },
  {
   "cell_type": "code",
   "execution_count": 38,
   "metadata": {},
   "outputs": [],
   "source": [
    "def array_from_directory(directory, maxitems):\n",
    "    # list of all folders (note folder names are the labels)\n",
    "    fruit_folders = [folder for folder in listdir(directory)]\n",
    "    \n",
    "    #For each folder, add the jpg file and label to a list\n",
    "    fruits_labels=[]\n",
    "    for fruit in fruit_folders:\n",
    "        fruit_folder_string = training_data_directory+'/'+fruit\n",
    "        fruitpictures = listdir(fruit_folder_string)\n",
    "        for picture in fruitpictures:\n",
    "            fruits_labels.append([fruit, fruit_folder_string+'/'+picture, picture])\n",
    "    \n",
    "    #Turn the list to a dataframe\n",
    "    fruits_df = pd.DataFrame(fruits_labels, columns=['Fruit','Directory','File'])\n",
    "\n",
    "    # Takes the list created and bring back an array of 100x100x3 representing the picture\n",
    "    x = []\n",
    "    for photo in fruits_df['Directory'][:maxitems]:\n",
    "        im = mpimg.imread(photo)\n",
    "        im =im/255\n",
    "        x.append(im)\n",
    "\n",
    "    x = np.array(x)\n",
    "    y_names = fruits_df['Fruit'].values[:maxitems]\n",
    "    \n",
    "    return x, y_names\n",
    "    "
   ]
  },
  {
   "cell_type": "code",
   "execution_count": 33,
   "metadata": {},
   "outputs": [],
   "source": [
    "X_train, X_test, y_train, y_test = getdata()"
   ]
  },
  {
   "cell_type": "code",
   "execution_count": 19,
   "metadata": {},
   "outputs": [],
   "source": [
    "model = tf.keras.models.Sequential([\n",
    "  tf.keras.layers.Flatten(input_shape=(100, 100, 3)),\n",
    "  tf.keras.layers.Dense(512, activation=tf.nn.relu),\n",
    "  tf.keras.layers.Dropout(0.2),\n",
    "  tf.keras.layers.Dense(512, activation=tf.nn.relu),\n",
    "  tf.keras.layers.Dropout(0.2),\n",
    "  tf.keras.layers.Dense(10, activation=tf.nn.softmax)\n",
    "])\n",
    "model.compile(optimizer='adam',\n",
    "              loss='sparse_categorical_crossentropy',\n",
    "              metrics=['accuracy'])\n"
   ]
  },
  {
   "cell_type": "code",
   "execution_count": 36,
   "metadata": {},
   "outputs": [
    {
     "name": "stdout",
     "output_type": "stream",
     "text": [
      "Epoch 1/3\n",
      "100/100 [==============================] - 0s 2ms/step - loss: 2.3026 - acc: 1.0000\n",
      "Epoch 2/3\n",
      "100/100 [==============================] - 0s 1ms/step - loss: 2.3026 - acc: 1.0000\n",
      "Epoch 3/3\n",
      "100/100 [==============================] - 0s 2ms/step - loss: 2.3026 - acc: 1.0000\n",
      "100/100 [==============================] - 0s 628us/step\n"
     ]
    },
    {
     "data": {
      "text/plain": [
       "[2.3025851249694824, 1.0]"
      ]
     },
     "execution_count": 36,
     "metadata": {},
     "output_type": "execute_result"
    }
   ],
   "source": [
    "model.fit(X_train, y_train, epochs=3)\n",
    "model.evaluate(X_test, y_test)"
   ]
  },
  {
   "cell_type": "code",
   "execution_count": 27,
   "metadata": {},
   "outputs": [
    {
     "data": {
      "text/plain": [
       "{'batch_size': 32,\n",
       " 'do_validation': False,\n",
       " 'epochs': 3,\n",
       " 'metrics': ['loss', 'acc'],\n",
       " 'samples': 10000,\n",
       " 'steps': None,\n",
       " 'verbose': 1}"
      ]
     },
     "execution_count": 27,
     "metadata": {},
     "output_type": "execute_result"
    }
   ],
   "source": [
    "model."
   ]
  },
  {
   "cell_type": "code",
   "execution_count": null,
   "metadata": {},
   "outputs": [],
   "source": [
    "dense1=[100,500,1000,2000]\n",
    "\n",
    "for i in dense1\n",
    "    model = tf.keras.models.Sequential([\n",
    "      tf.keras.layers.Flatten(input_shape=(100, 100, 3)),\n",
    "      tf.keras.layers.Dense(i, activation=tf.nn.relu),\n",
    "      tf.keras.layers.Dropout(0.2),\n",
    "      tf.keras.layers.Dense(512, activation=tf.nn.relu),\n",
    "      tf.keras.layers.Dropout(0.2),\n",
    "      tf.keras.layers.Dense(10, activation=tf.nn.softmax)\n",
    "    ])\n",
    "    model.compile(optimizer='adam',\n",
    "                  loss='sparse_categorical_crossentropy',\n",
    "                  metrics=['accuracy'])\n",
    "    model.fit(x_train, y_train, epochs=3)"
   ]
  }
 ],
 "metadata": {
  "kernelspec": {
   "display_name": "Python 3",
   "language": "python",
   "name": "python3"
  },
  "language_info": {
   "codemirror_mode": {
    "name": "ipython",
    "version": 3
   },
   "file_extension": ".py",
   "mimetype": "text/x-python",
   "name": "python",
   "nbconvert_exporter": "python",
   "pygments_lexer": "ipython3",
   "version": "3.5.0"
  }
 },
 "nbformat": 4,
 "nbformat_minor": 2
}
