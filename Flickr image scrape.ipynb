{
 "cells": [
  {
   "cell_type": "code",
   "execution_count": 1,
   "metadata": {},
   "outputs": [],
   "source": [
    "from flickrapi import FlickrAPI\n",
    "import urllib\n",
    "import os\n",
    "import pandas as pd\n",
    "import cv2\n",
    "from PIL import Image\n",
    "from os import listdir"
   ]
  },
  {
   "cell_type": "code",
   "execution_count": 12,
   "metadata": {},
   "outputs": [],
   "source": [
    "fruits_df = pd.read_csv('./data/FruitCategories.csv')\n",
    "fruits = fruits_df['Category'].unique()\n",
    "local_drive = './data/flickr/'"
   ]
  },
  {
   "cell_type": "code",
   "execution_count": 3,
   "metadata": {},
   "outputs": [],
   "source": []
  },
  {
   "cell_type": "code",
   "execution_count": 2,
   "metadata": {},
   "outputs": [],
   "source": [
    "#load the fruit from the list of fruit\n",
    "\n",
    "def get_fruit(fruitList, numberOfEachFruit, directory='./data/', fruitPerPage=50, pagestart=1):\n",
    "    #load flickr api\n",
    "    flickr = FlickrAPI('7b05a21eee78a2b3d706dd3e37db1003', 'cc95efdb279ec149', format='parsed-json')\n",
    "    for fruit in fruitList: \n",
    "        print('\\n Starting {}' .format(fruit))\n",
    "        if not os.path.exists(directory+fruit):\n",
    "            os.makedirs(directory+fruit)\n",
    "        for page_no in range(pagestart, pagestart+int(numberOfEachFruit/fruitPerPage)+1):\n",
    "            photos = flickr.photos.search(text=fruit, per_page=fruitPerPage, page=page_no, sort=\"relevance\")['photos']['photo']\n",
    "            for photo in photos:\n",
    "                photo_url = 'https://farm{}.staticflickr.com/{}/{}_{}.jpg' .format(photo[\"farm\"],photo[\"server\"],photo[\"id\"], photo[\"secret\"])\n",
    "                filename= '{}{}/{}.jpg' .format(directory,fruit,photo[\"id\"])\n",
    "                urllib.request.urlretrieve(photo_url, filename)\n",
    "                im = Image.open(filename)\n",
    "                im = im.resize((100, 100), Image.ANTIALIAS)\n",
    "                im.save(filename)\n",
    "                print('.', end='')\n",
    "            print('+')"
   ]
  },
  {
   "cell_type": "code",
   "execution_count": 11,
   "metadata": {},
   "outputs": [
    {
     "ename": "SyntaxError",
     "evalue": "invalid syntax (<ipython-input-11-0e3e12b6735e>, line 1)",
     "output_type": "error",
     "traceback": [
      "\u001b[1;36m  File \u001b[1;32m\"<ipython-input-11-0e3e12b6735e>\"\u001b[1;36m, line \u001b[1;32m1\u001b[0m\n\u001b[1;33m    get_fruit(fruits, 100, directory='./data/flickr', fruitPerPage=50):\u001b[0m\n\u001b[1;37m                                                                      ^\u001b[0m\n\u001b[1;31mSyntaxError\u001b[0m\u001b[1;31m:\u001b[0m invalid syntax\n"
     ]
    }
   ],
   "source": [
    "get_fruit(fruits, 100, directory='./data/flickr', fruitPerPage=50):\n",
    "   "
   ]
  },
  {
   "cell_type": "code",
   "execution_count": 12,
   "metadata": {},
   "outputs": [
    {
     "name": "stdout",
     "output_type": "stream",
     "text": [
      "\n",
      " Starting banana\n",
      "..................................................+\n",
      "..................................................+\n",
      ".................................................+\n",
      "..................................................+\n",
      "..................................................+\n",
      "..................................................+\n",
      "..................................................+\n",
      "..................................................+\n",
      "..................................................+\n",
      "..................................................+\n",
      "..................................................+\n",
      "..................................................+\n",
      "..................................................+\n",
      "..................................................+\n",
      "..................................................+\n",
      "..................................................+\n",
      "..................................................+\n",
      "..................................................+\n",
      "..................................................+\n",
      "..................................................+\n",
      ".................................................+\n"
     ]
    }
   ],
   "source": [
    "fruit_list=['banana']\n",
    "get_fruit(fruit_list, 1000, directory='./data/temp/', fruitPerPage=50, pagestart=10)"
   ]
  },
  {
   "cell_type": "code",
   "execution_count": 44,
   "metadata": {},
   "outputs": [],
   "source": [
    "directory = './data/temp'  \n",
    "folders = [folder for folder in listdir(directory)]\n",
    "\n",
    "for folder in listdir(directory):\n",
    "    for image in listdir(directory+'/'+folder):\n",
    "        filename = directory+'/'+folder+'/'+image\n",
    "        im = Image.open(filename)\n",
    "        im = im.resize((100, 100), Image.ANTIALIAS)\n",
    "        im.save(filename)"
   ]
  }
 ],
 "metadata": {
  "kernelspec": {
   "display_name": "Python 3",
   "language": "python",
   "name": "python3"
  },
  "language_info": {
   "codemirror_mode": {
    "name": "ipython",
    "version": 3
   },
   "file_extension": ".py",
   "mimetype": "text/x-python",
   "name": "python",
   "nbconvert_exporter": "python",
   "pygments_lexer": "ipython3",
   "version": "3.5.0"
  }
 },
 "nbformat": 4,
 "nbformat_minor": 2
}
