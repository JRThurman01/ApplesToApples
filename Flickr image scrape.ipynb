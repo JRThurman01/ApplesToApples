{
 "cells": [
  {
   "cell_type": "code",
   "execution_count": 1,
   "metadata": {},
   "outputs": [],
   "source": [
    "from flickrapi import FlickrAPI\n",
    "import urllib\n",
    "import os\n",
    "import pandas as pd\n",
    "import cv2"
   ]
  },
  {
   "cell_type": "code",
   "execution_count": 2,
   "metadata": {},
   "outputs": [],
   "source": [
    "fruits_df = pd.read_csv('./data/FruitCategories.csv')\n"
   ]
  },
  {
   "cell_type": "code",
   "execution_count": 3,
   "metadata": {},
   "outputs": [],
   "source": [
    "fruits = fruits_df['Category'].unique()\n",
    "local_drive = './data/flickr/'\n",
    "flickr = FlickrAPI('7b05a21eee78a2b3d706dd3e37db1003', 'cc95efdb279ec149', format='parsed-json')"
   ]
  },
  {
   "cell_type": "code",
   "execution_count": 5,
   "metadata": {},
   "outputs": [
    {
     "name": "stdout",
     "output_type": "stream",
     "text": [
      "Starting Apple\n",
      "..................................................+Starting Apricot\n",
      "..................................................+Starting Avocado\n",
      "..................................................+Starting Banana\n",
      "..................................................+Starting Cactus fruit\n",
      "..................................................+Starting Melon\n",
      "..................................................+Starting Carambula\n",
      "..................................................+Starting Cherry\n",
      "..................................................+Starting Chestnut\n",
      "..................................................+Starting Clementine\n",
      "..................................................+Starting Cocos\n",
      "..................................................+Starting Dates\n",
      "..................................................+Starting Granadilla\n",
      "..................................................+Starting Grape\n",
      ".................................................+Starting Grapefruit\n",
      "..................................................+Starting Guava\n",
      "..................................................+Starting Hazelnut\n",
      "..................................................+Starting Huckleberry\n",
      "..................................................+Starting Kiwi\n",
      ".................................................+Starting Kaki\n",
      "..................................................+Starting Kumquats\n",
      "..................................................+Starting Lemon\n",
      "..................................................+Starting Lime\n",
      "..................................................+Starting Lychee\n",
      "..................................................+Starting Mandarine\n",
      "..................................................+Starting Mango\n",
      "..................................................+Starting Mangostan\n",
      "..................................................+Starting Maracuja\n",
      "..................................................+Starting Mulberry\n",
      "..................................................+Starting Nectarine\n",
      "...........................................+Starting Orange\n",
      "..................................................+Starting Papaya\n",
      "..................................................+Starting Passion fruit\n",
      "..................................................+Starting Peach\n",
      "..................................................+Starting Pepino\n",
      "..................................................+Starting Pear\n",
      "..................................................+Starting Physalis\n",
      "..................................................+Starting Pineapple\n",
      "..................................................+Starting Pitahaya Red\n",
      ".................................................+Starting Plum\n",
      "..................................................+Starting Pomegranate\n",
      "..................................................+Starting Pomelo Sweetie\n",
      ".....+Starting Quince\n",
      "..................................................+Starting Rambutan\n",
      "..................................................+Starting Raspberry\n",
      "..................................................+Starting Redcurrant\n",
      "..................................................+Starting Salak\n",
      "..................................................+Starting Strawberry\n",
      "..................................................+Starting Tangelo\n",
      "..................................................+Starting Tomato\n",
      "..................................................+Starting Walnut\n",
      "..................................................+"
     ]
    }
   ],
   "source": [
    "for fruit in fruits: \n",
    "    print('Starting {}' .format(fruit))\n",
    "    if not os.path.exists(local_drive+fruit):\n",
    "        os.makedirs(local_drive+fruit)\n",
    "    for page_no in range(1,2):\n",
    "        photos = flickr.photos.search(text=fruit, per_page=50, page=page_no, sort=\"relevance\")['photos']['photo']\n",
    "        for photo in photos:\n",
    "            photo_url = 'https://farm{}.staticflickr.com/{}/{}_{}.jpg' .format(photo[\"farm\"],photo[\"server\"],photo[\"id\"], photo[\"secret\"])\n",
    "            urllib.request.urlretrieve(photo_url, '{}{}/{}.jpg' .format(local_drive,fruit,photo[\"id\"]))\n",
    "            print('.', end='')\n",
    "        print('+', end='')"
   ]
  },
  {
   "cell_type": "code",
   "execution_count": null,
   "metadata": {},
   "outputs": [],
   "source": []
  }
 ],
 "metadata": {
  "kernelspec": {
   "display_name": "Python 3",
   "language": "python",
   "name": "python3"
  },
  "language_info": {
   "codemirror_mode": {
    "name": "ipython",
    "version": 3
   },
   "file_extension": ".py",
   "mimetype": "text/x-python",
   "name": "python",
   "nbconvert_exporter": "python",
   "pygments_lexer": "ipython3",
   "version": "3.5.0"
  }
 },
 "nbformat": 4,
 "nbformat_minor": 2
}
