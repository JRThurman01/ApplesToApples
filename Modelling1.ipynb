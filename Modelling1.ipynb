{
 "cells": [
  {
   "cell_type": "code",
   "execution_count": 1,
   "metadata": {},
   "outputs": [],
   "source": [
    "import numpy as np\n",
    "import pandas as pd\n",
    "import tensorflow as tf\n",
    "from matplotlib import pyplot as plt\n",
    "\n",
    "from fruit_data import get_data, filelist_from_directory, create_dataset "
   ]
  },
  {
   "cell_type": "code",
   "execution_count": 2,
   "metadata": {},
   "outputs": [
    {
     "name": "stdout",
     "output_type": "stream",
     "text": [
      "Data load complete\n"
     ]
    }
   ],
   "source": [
    "filelist = pd.read_csv('./Dataset_index/limited_training_5000_records.csv' )\n",
    "X,y = create_dataset(filelist)\n",
    "print('Data load complete')"
   ]
  },
  {
   "cell_type": "code",
   "execution_count": 3,
   "metadata": {},
   "outputs": [
    {
     "data": {
      "text/plain": [
       "LabelEncoder()"
      ]
     },
     "execution_count": 3,
     "metadata": {},
     "output_type": "execute_result"
    }
   ],
   "source": [
    "from sklearn.preprocessing import LabelEncoder\n",
    "label_encoder = LabelEncoder()\n",
    "label_encoder.fit(y)"
   ]
  },
  {
   "cell_type": "code",
   "execution_count": 4,
   "metadata": {},
   "outputs": [],
   "source": [
    "from sklearn.model_selection import train_test_split\n",
    "\n",
    "X_train, X_val, y_train, y_val = train_test_split(X, y)\n",
    "\n",
    "X_train = X_train/255\n",
    "X_val = X_val/255\n",
    "y_train = label_encoder.transform(y_train)\n",
    "y_val = label_encoder.transform(y_val)\n"
   ]
  },
  {
   "cell_type": "markdown",
   "metadata": {},
   "source": [
    "### Model 1 - Conv NN"
   ]
  },
  {
   "cell_type": "code",
   "execution_count": 12,
   "metadata": {
    "scrolled": false
   },
   "outputs": [
    {
     "name": "stdout",
     "output_type": "stream",
     "text": [
      "_________________________________________________________________\n",
      "Layer (type)                 Output Shape              Param #   \n",
      "=================================================================\n",
      "conv2d_10 (Conv2D)           (None, 100, 100, 16)      448       \n",
      "_________________________________________________________________\n",
      "conv2d_11 (Conv2D)           (None, 98, 98, 16)        2320      \n",
      "_________________________________________________________________\n",
      "max_pooling2d_5 (MaxPooling2 (None, 24, 24, 16)        0         \n",
      "_________________________________________________________________\n",
      "dropout_10 (Dropout)         (None, 24, 24, 16)        0         \n",
      "_________________________________________________________________\n",
      "flatten_5 (Flatten)          (None, 9216)              0         \n",
      "_________________________________________________________________\n",
      "dense_10 (Dense)             (None, 264)               2433288   \n",
      "_________________________________________________________________\n",
      "dropout_11 (Dropout)         (None, 264)               0         \n",
      "_________________________________________________________________\n",
      "dense_11 (Dense)             (None, 95)                25175     \n",
      "=================================================================\n",
      "Total params: 2,461,231\n",
      "Trainable params: 2,461,231\n",
      "Non-trainable params: 0\n",
      "_________________________________________________________________\n"
     ]
    }
   ],
   "source": [
    "from tensorflow.keras.models import Sequential\n",
    "from tensorflow.keras.layers import Dense, Conv2D, MaxPooling2D, Dropout, Flatten\n",
    "\n",
    "#Define a model:\n",
    "model = Sequential()\n",
    "model.add(Conv2D(16, (3, 3), padding='same', activation='relu', input_shape=(100,100,3)))\n",
    "model.add(Conv2D(16, (3, 3), activation='relu'))\n",
    "model.add(MaxPooling2D(pool_size=(4, 4)))\n",
    "model.add(Dropout(0.25))\n",
    "\n",
    "model.add(Flatten())\n",
    "model.add(Dense(264, activation='relu'))\n",
    "model.add(Dropout(0.5))\n",
    "model.add(Dense(95, activation='softmax'))\n",
    "     \n",
    "model.compile(optimizer='rmsprop',\n",
    "              loss='sparse_categorical_crossentropy',\n",
    "              metrics=['accuracy'])  \n",
    "\n",
    "model.summary()"
   ]
  },
  {
   "cell_type": "code",
   "execution_count": 13,
   "metadata": {},
   "outputs": [
    {
     "name": "stdout",
     "output_type": "stream",
     "text": [
      "Train on 3750 samples, validate on 1250 samples\n",
      "Epoch 1/20\n",
      "3750/3750 [==============================] - 127s 34ms/step - loss: 3.6678 - acc: 0.1528 - val_loss: 2.3742 - val_acc: 0.5080\n",
      "Epoch 2/20\n",
      "3750/3750 [==============================] - 5s 1ms/step - loss: 1.8704 - acc: 0.4925 - val_loss: 0.9353 - val_acc: 0.7888\n",
      "Epoch 3/20\n",
      "3750/3750 [==============================] - 5s 1ms/step - loss: 1.0724 - acc: 0.6755 - val_loss: 0.6752 - val_acc: 0.8128\n",
      "Epoch 4/20\n",
      "3750/3750 [==============================] - 5s 1ms/step - loss: 0.7150 - acc: 0.7845 - val_loss: 0.4058 - val_acc: 0.8984\n",
      "Epoch 5/20\n",
      "3750/3750 [==============================] - 5s 1ms/step - loss: 0.5091 - acc: 0.8456 - val_loss: 0.2111 - val_acc: 0.9392\n",
      "Epoch 6/20\n",
      "3750/3750 [==============================] - 5s 1ms/step - loss: 0.3803 - acc: 0.8768 - val_loss: 0.1415 - val_acc: 0.9592\n",
      "Epoch 7/20\n",
      "3750/3750 [==============================] - 5s 1ms/step - loss: 0.2973 - acc: 0.9019 - val_loss: 0.2014 - val_acc: 0.9384\n",
      "Epoch 8/20\n",
      "3750/3750 [==============================] - 5s 1ms/step - loss: 0.2346 - acc: 0.9240 - val_loss: 0.1029 - val_acc: 0.9672\n",
      "Epoch 9/20\n",
      "3750/3750 [==============================] - 5s 1ms/step - loss: 0.1962 - acc: 0.9387 - val_loss: 0.1109 - val_acc: 0.9712\n",
      "Epoch 10/20\n",
      "3750/3750 [==============================] - 5s 1ms/step - loss: 0.1842 - acc: 0.9408 - val_loss: 0.1399 - val_acc: 0.9520\n",
      "Epoch 11/20\n",
      "3750/3750 [==============================] - 5s 1ms/step - loss: 0.1444 - acc: 0.9523 - val_loss: 0.0892 - val_acc: 0.9712\n",
      "Epoch 12/20\n",
      "3750/3750 [==============================] - 5s 1ms/step - loss: 0.1375 - acc: 0.9587 - val_loss: 0.0561 - val_acc: 0.9832\n",
      "Epoch 13/20\n",
      "3750/3750 [==============================] - 5s 1ms/step - loss: 0.1123 - acc: 0.9659 - val_loss: 0.0609 - val_acc: 0.9776\n",
      "Epoch 14/20\n",
      "3750/3750 [==============================] - 5s 1ms/step - loss: 0.1090 - acc: 0.9624 - val_loss: 0.0918 - val_acc: 0.9656\n",
      "Epoch 15/20\n",
      "3750/3750 [==============================] - 5s 1ms/step - loss: 0.0979 - acc: 0.9688 - val_loss: 0.0835 - val_acc: 0.9736\n",
      "Epoch 16/20\n",
      "3750/3750 [==============================] - 5s 1ms/step - loss: 0.0754 - acc: 0.9755 - val_loss: 0.0681 - val_acc: 0.9792\n",
      "Epoch 17/20\n",
      "3750/3750 [==============================] - 5s 1ms/step - loss: 0.0882 - acc: 0.9709 - val_loss: 0.0956 - val_acc: 0.9776\n",
      "Epoch 18/20\n",
      "3750/3750 [==============================] - 5s 1ms/step - loss: 0.0713 - acc: 0.9739 - val_loss: 0.0492 - val_acc: 0.9872\n",
      "Epoch 19/20\n",
      "3750/3750 [==============================] - 5s 1ms/step - loss: 0.0675 - acc: 0.9773 - val_loss: 0.0493 - val_acc: 0.9848\n",
      "Epoch 20/20\n",
      "3750/3750 [==============================] - 5s 1ms/step - loss: 0.0655 - acc: 0.9797 - val_loss: 0.0437 - val_acc: 0.9824\n"
     ]
    }
   ],
   "source": [
    "#checkpoint_path = './saved_models/model1/checkpoints.ckpt'\n",
    "#cp_callback = tf.keras.callbacks.ModelCheckpoint(checkpoint_path, \n",
    "       #                                          save_weights_only=True,\n",
    "        #                                         verbose=1)\n",
    "\n",
    "history = model.fit(X_train, y_train,\n",
    "                    validation_data = (X_val, y_val),\n",
    "                    #callbacks = [cp_callback],\n",
    "                    epochs=20)"
   ]
  },
  {
   "cell_type": "markdown",
   "metadata": {},
   "source": [
    "### Save a trained model"
   ]
  },
  {
   "cell_type": "code",
   "execution_count": 14,
   "metadata": {},
   "outputs": [],
   "source": [
    "checkpoint_path = './saved_models/model1/trained_model'\n",
    "model.save(checkpoint_path)"
   ]
  },
  {
   "cell_type": "code",
   "execution_count": null,
   "metadata": {},
   "outputs": [],
   "source": [
    "model.load_weights()"
   ]
  },
  {
   "cell_type": "code",
   "execution_count": 15,
   "metadata": {},
   "outputs": [
    {
     "name": "stdout",
     "output_type": "stream",
     "text": [
      "Saved model to disk\n"
     ]
    }
   ],
   "source": [
    "model_json = model.to_json()\n",
    "with open(\"./saved_models/model1/model.json\", \"w\") as json_file:\n",
    "    json_file.write(model_json)\n",
    "# serialize weights to HDF5\n",
    "model.save_weights(\"model.h5\")\n",
    "print(\"Saved model to disk\")\n",
    " "
   ]
  },
  {
   "cell_type": "code",
   "execution_count": 18,
   "metadata": {},
   "outputs": [],
   "source": [
    "filelist_test = pd.read_csv('./Dataset_index/limited_testing_1000_records.csv' )\n",
    "X_test,y_test = create_dataset(filelist_test)\n",
    "\n",
    "X_test = X_test/255\n",
    "y_test = label_encoder.transform(y_test)\n"
   ]
  },
  {
   "cell_type": "code",
   "execution_count": 9,
   "metadata": {},
   "outputs": [
    {
     "name": "stdout",
     "output_type": "stream",
     "text": [
      "1000/1000 [==============================] - 1s 1ms/step\n"
     ]
    },
    {
     "data": {
      "text/plain": [
       "[0.6095312627553939, 0.912]"
      ]
     },
     "execution_count": 9,
     "metadata": {},
     "output_type": "execute_result"
    }
   ],
   "source": [
    "model.evaluate(X_test, y_test)"
   ]
  },
  {
   "cell_type": "code",
   "execution_count": 5,
   "metadata": {},
   "outputs": [],
   "source": [
    "# Loss Curves\n",
    "def plt_history(history):\n",
    "    plt.figure(figsize=[20,8]);\n",
    "    plt.subplot(1,2,1)\n",
    "\n",
    "    plt.plot(history.history['loss'],'r',linewidth=3.0);\n",
    "    plt.plot(history.history['val_loss'],'b',linewidth=3.0);\n",
    "    plt.legend(['Training loss', 'Validation Loss'],fontsize=18);\n",
    "    plt.xlabel('Epochs ',fontsize=16);\n",
    "    plt.ylabel('Loss',fontsize=16);\n",
    "    plt.title('Loss Curves',fontsize=16);\n",
    "\n",
    "    # Accuracy Curves\n",
    "    plt.subplot(1,2,2)\n",
    "    plt.plot(history.history['acc'],'r',linewidth=3.0);\n",
    "    plt.plot(history.history['val_acc'],'b',linewidth=3.0);\n",
    "    plt.legend(['Training Accuracy', 'Validation Accuracy'],fontsize=18);\n",
    "    plt.xlabel('Epochs ',fontsize=16);\n",
    "    plt.ylabel('Accuracy',fontsize=16);\n",
    "    plt.title('Accuracy Curves',fontsize=16);\n"
   ]
  },
  {
   "cell_type": "code",
   "execution_count": 11,
   "metadata": {},
   "outputs": [
    {
     "data": {
      "image/png": "[encoded data removed]",
      "text/plain": [
       "<Figure size 1440x576 with 2 Axes>"
      ]
     },
     "metadata": {
      "needs_background": "light"
     },
     "output_type": "display_data"
    }
   ],
   "source": [
    "plt_history(history)"
   ]
  },
  {
   "cell_type": "markdown",
   "metadata": {},
   "source": [
    "### Model 2 - Mobilenet transfer learning model"
   ]
  },
  {
   "cell_type": "code",
   "execution_count": 6,
   "metadata": {},
   "outputs": [
    {
     "name": "stderr",
     "output_type": "stream",
     "text": [
      "WARNING: Logging before flag parsing goes to stderr.\n",
      "W0312 23:33:39.365547 12248 __init__.py:56] Some hub symbols are not available because TensorFlow version is less than 1.14\n"
     ]
    }
   ],
   "source": [
    "import tensorflow_hub as hub\n",
    "#5s to load the model\n",
    "module = hub.Module('https://tfhub.dev/google/imagenet/mobilenet_v2_100_128/feature_vector/2', \\\n",
    "                    trainable=True)\n"
   ]
  },
  {
   "cell_type": "code",
   "execution_count": 7,
   "metadata": {},
   "outputs": [
    {
     "name": "stdout",
     "output_type": "stream",
     "text": [
      "[128, 128]\n"
     ]
    }
   ],
   "source": [
    "IMAGE_SIZE = hub.get_expected_image_size(hub.Module('https://tfhub.dev/google/imagenet/mobilenet_v2_100_128/feature_vector/2'))\n",
    "print(IMAGE_SIZE)"
   ]
  },
  {
   "cell_type": "code",
   "execution_count": 10,
   "metadata": {},
   "outputs": [
    {
     "name": "stdout",
     "output_type": "stream",
     "text": [
      "INFO:tensorflow:Saver not created because there are no variables in the graph to restore\n"
     ]
    },
    {
     "name": "stderr",
     "output_type": "stream",
     "text": [
      "I0313 00:20:44.340599 12248 tf_logging.py:115] Saver not created because there are no variables in the graph to restore\n"
     ]
    },
    {
     "name": "stdout",
     "output_type": "stream",
     "text": [
      "_________________________________________________________________\n",
      "Layer (type)                 Output Shape              Param #   \n",
      "=================================================================\n",
      "lambda_2 (Lambda)            (None, 128, 128, 3)       0         \n",
      "_________________________________________________________________\n",
      "lambda_3 (Lambda)            (None, 1280)              0         \n",
      "_________________________________________________________________\n",
      "dense (Dense)                (None, 95)                121695    \n",
      "=================================================================\n",
      "Total params: 121,695\n",
      "Trainable params: 121,695\n",
      "Non-trainable params: 0\n",
      "_________________________________________________________________\n"
     ]
    }
   ],
   "source": [
    "FeatureVector128 = tf.keras.layers.Lambda(module, input_shape = IMAGE_SIZE+[3])\n",
    "model2 = tf.keras.Sequential([FeatureVector128] )\n",
    "model2.add(Dense(95, activation='softmax'))\n",
    "model2.compile(optimizer='rmsprop',\n",
    "              loss='sparse_categorical_crossentropy',\n",
    "              metrics=['accuracy'])  \n",
    "\n",
    "model2.summary()\n"
   ]
  },
  {
   "cell_type": "code",
   "execution_count": 12,
   "metadata": {},
   "outputs": [],
   "source": [
    "import tensorflow.keras.backend as K\n",
    "sess = K.get_session()\n",
    "init = tf.global_variables_initializer()\n",
    "\n",
    "sess.run(init)"
   ]
  },
  {
   "cell_type": "code",
   "execution_count": 16,
   "metadata": {},
   "outputs": [],
   "source": [
    "n = 1000\n",
    "X_train128 = tf.image.resize_images(X_train[0:n,:], (128,128)).eval(session=sess)\n",
    "y_train128 = y_train[0:n]\n",
    "print('training images resized')\n",
    "\n",
    "m = 1000\n",
    "X_val128 = tf.image.resize_images(X_val[0:m,:], (128,128)).eval(session=sess)\n",
    "y_val128 = y_val[0:m]\n",
    "print('test images resized')"
   ]
  },
  {
   "cell_type": "code",
   "execution_count": 33,
   "metadata": {
    "scrolled": false
   },
   "outputs": [
    {
     "name": "stdout",
     "output_type": "stream",
     "text": [
      "Train on 1000 samples, validate on 1000 samples\n",
      "Epoch 1/20\n",
      "1000/1000 [==============================] - 38s 38ms/step - loss: 0.0859 - acc: 0.9960 - val_loss: 0.2433 - val_acc: 0.9430\n",
      "Epoch 2/20\n",
      "1000/1000 [==============================] - 4s 4ms/step - loss: 0.0551 - acc: 0.9970 - val_loss: 0.2249 - val_acc: 0.9460\n",
      "Epoch 3/20\n",
      "1000/1000 [==============================] - 4s 4ms/step - loss: 0.0363 - acc: 0.9990 - val_loss: 0.1795 - val_acc: 0.9530\n",
      "Epoch 4/20\n",
      "1000/1000 [==============================] - 4s 4ms/step - loss: 0.0252 - acc: 1.0000 - val_loss: 0.1763 - val_acc: 0.9510\n",
      "Epoch 5/20\n",
      "1000/1000 [==============================] - 4s 4ms/step - loss: 0.0181 - acc: 1.0000 - val_loss: 0.1841 - val_acc: 0.9550\n",
      "Epoch 6/20\n",
      "1000/1000 [==============================] - 4s 4ms/step - loss: 0.0132 - acc: 1.0000 - val_loss: 0.1727 - val_acc: 0.9480\n",
      "Epoch 7/20\n",
      "1000/1000 [==============================] - 4s 4ms/step - loss: 0.0093 - acc: 1.0000 - val_loss: 0.1660 - val_acc: 0.9530\n",
      "Epoch 8/20\n",
      "1000/1000 [==============================] - 4s 4ms/step - loss: 0.0066 - acc: 1.0000 - val_loss: 0.1583 - val_acc: 0.9560\n",
      "Epoch 9/20\n",
      "1000/1000 [==============================] - 4s 4ms/step - loss: 0.0051 - acc: 1.0000 - val_loss: 0.1681 - val_acc: 0.9590\n",
      "Epoch 10/20\n",
      "1000/1000 [==============================] - 4s 4ms/step - loss: 0.0042 - acc: 1.0000 - val_loss: 0.1635 - val_acc: 0.9560\n",
      "Epoch 11/20\n",
      "1000/1000 [==============================] - 4s 4ms/step - loss: 0.0030 - acc: 1.0000 - val_loss: 0.1516 - val_acc: 0.9550\n",
      "Epoch 12/20\n",
      "1000/1000 [==============================] - 4s 4ms/step - loss: 0.0023 - acc: 1.0000 - val_loss: 0.1600 - val_acc: 0.9580\n",
      "Epoch 13/20\n",
      "1000/1000 [==============================] - 4s 4ms/step - loss: 0.0017 - acc: 1.0000 - val_loss: 0.1525 - val_acc: 0.9590\n",
      "Epoch 14/20\n",
      "1000/1000 [==============================] - 3s 3ms/step - loss: 0.0014 - acc: 1.0000 - val_loss: 0.1569 - val_acc: 0.9570\n",
      "Epoch 15/20\n",
      "1000/1000 [==============================] - 3s 3ms/step - loss: 9.9407e-04 - acc: 1.0000 - val_loss: 0.1625 - val_acc: 0.9540\n",
      "Epoch 16/20\n",
      "1000/1000 [==============================] - 4s 4ms/step - loss: 8.1056e-04 - acc: 1.0000 - val_loss: 0.1579 - val_acc: 0.9580\n",
      "Epoch 17/20\n",
      "1000/1000 [==============================] - 4s 4ms/step - loss: 6.1232e-04 - acc: 1.0000 - val_loss: 0.1579 - val_acc: 0.9570\n",
      "Epoch 18/20\n",
      "1000/1000 [==============================] - 4s 4ms/step - loss: 4.8555e-04 - acc: 1.0000 - val_loss: 0.1681 - val_acc: 0.9540\n",
      "Epoch 19/20\n",
      "1000/1000 [==============================] - 3s 3ms/step - loss: 3.6072e-04 - acc: 1.0000 - val_loss: 0.1583 - val_acc: 0.9550\n",
      "Epoch 20/20\n",
      "1000/1000 [==============================] - 4s 4ms/step - loss: 3.0494e-04 - acc: 1.0000 - val_loss: 0.1766 - val_acc: 0.9530\n"
     ]
    }
   ],
   "source": [
    "#checkpoint_path = './saved_models/model2/checkpoints.ckpt'\n",
    "#cp_callback = tf.keras.callbacks.ModelCheckpoint(checkpoint_path, \n",
    "#                                                 save_weights_only=True,\n",
    "#                                                 verbose=1, period=5)\n",
    "\n",
    "history = model2.fit(X_train128, y_train128,\n",
    "                     validation_data = (X_val128, y_val128),\n",
    "                     #callbacks=[cp_callback],\n",
    "                    epochs=20)"
   ]
  },
  {
   "cell_type": "code",
   "execution_count": null,
   "metadata": {},
   "outputs": [],
   "source": [
    "history = model2.fit(X_train, y_train,\n",
    "                     validation_data = (X_val, y_val),\n",
    "                     #callbacks=[cp_callback],\n",
    "                    epochs=20)"
   ]
  },
  {
   "cell_type": "code",
   "execution_count": 36,
   "metadata": {},
   "outputs": [],
   "source": [
    "n = 1000\n",
    "X_test128 = tf.image.resize_images(X_test[0:n,:], (128,128)).eval(session=sess)\n",
    "y_test128 = y_test[0:n]"
   ]
  },
  {
   "cell_type": "code",
   "execution_count": 37,
   "metadata": {},
   "outputs": [
    {
     "name": "stdout",
     "output_type": "stream",
     "text": [
      "1000/1000 [==============================] - 22s 22ms/step\n"
     ]
    },
    {
     "data": {
      "text/plain": [
       "[0.1988689669612795, 0.945]"
      ]
     },
     "execution_count": 37,
     "metadata": {},
     "output_type": "execute_result"
    }
   ],
   "source": [
    "model2.evaluate(X_test128, y_test128)"
   ]
  },
  {
   "cell_type": "code",
   "execution_count": 40,
   "metadata": {},
   "outputs": [
    {
     "ename": "AttributeError",
     "evalue": "'Module' object has no attribute '__name__'",
     "output_type": "error",
     "traceback": [
      "\u001b[1;31m---------------------------------------------------------------------------\u001b[0m",
      "\u001b[1;31mAttributeError\u001b[0m                            Traceback (most recent call last)",
      "\u001b[1;32m<ipython-input-40-6228d559221a>\u001b[0m in \u001b[0;36m<module>\u001b[1;34m\u001b[0m\n\u001b[0;32m      1\u001b[0m \u001b[0mmodel2\u001b[0m\u001b[1;33m.\u001b[0m\u001b[0msave_weights\u001b[0m\u001b[1;33m(\u001b[0m\u001b[1;34m'model2.h5'\u001b[0m\u001b[1;33m)\u001b[0m\u001b[1;33m\u001b[0m\u001b[0m\n\u001b[0;32m      2\u001b[0m \u001b[1;33m\u001b[0m\u001b[0m\n\u001b[1;32m----> 3\u001b[1;33m \u001b[0mmodel_json\u001b[0m \u001b[1;33m=\u001b[0m \u001b[0mmodel2\u001b[0m\u001b[1;33m.\u001b[0m\u001b[0mto_json\u001b[0m\u001b[1;33m(\u001b[0m\u001b[1;33m)\u001b[0m\u001b[1;33m\u001b[0m\u001b[0m\n\u001b[0m\u001b[0;32m      4\u001b[0m \u001b[1;32mwith\u001b[0m \u001b[0mopen\u001b[0m\u001b[1;33m(\u001b[0m\u001b[1;34m\"model2_arch.json\"\u001b[0m\u001b[1;33m,\u001b[0m \u001b[1;34m\"w\"\u001b[0m\u001b[1;33m)\u001b[0m \u001b[1;32mas\u001b[0m \u001b[0mjson_file\u001b[0m\u001b[1;33m:\u001b[0m\u001b[1;33m\u001b[0m\u001b[0m\n\u001b[0;32m      5\u001b[0m     \u001b[0mjson_file\u001b[0m\u001b[1;33m.\u001b[0m\u001b[0mwrite\u001b[0m\u001b[1;33m(\u001b[0m\u001b[0mmodel_json\u001b[0m\u001b[1;33m)\u001b[0m\u001b[1;33m\u001b[0m\u001b[0m\n",
      "\u001b[1;32mc:\\users\\johnr\\anaconda3\\envs\\python35gpu\\lib\\site-packages\\tensorflow\\python\\keras\\engine\\network.py\u001b[0m in \u001b[0;36mto_json\u001b[1;34m(self, **kwargs)\u001b[0m\n\u001b[0;32m   1497\u001b[0m       \u001b[1;32mraise\u001b[0m \u001b[0mTypeError\u001b[0m\u001b[1;33m(\u001b[0m\u001b[1;34m'Not JSON Serializable:'\u001b[0m\u001b[1;33m,\u001b[0m \u001b[0mobj\u001b[0m\u001b[1;33m)\u001b[0m\u001b[1;33m\u001b[0m\u001b[0m\n\u001b[0;32m   1498\u001b[0m \u001b[1;33m\u001b[0m\u001b[0m\n\u001b[1;32m-> 1499\u001b[1;33m     \u001b[0mmodel_config\u001b[0m \u001b[1;33m=\u001b[0m \u001b[0mself\u001b[0m\u001b[1;33m.\u001b[0m\u001b[0m_updated_config\u001b[0m\u001b[1;33m(\u001b[0m\u001b[1;33m)\u001b[0m\u001b[1;33m\u001b[0m\u001b[0m\n\u001b[0m\u001b[0;32m   1500\u001b[0m     \u001b[1;32mreturn\u001b[0m \u001b[0mjson\u001b[0m\u001b[1;33m.\u001b[0m\u001b[0mdumps\u001b[0m\u001b[1;33m(\u001b[0m\u001b[0mmodel_config\u001b[0m\u001b[1;33m,\u001b[0m \u001b[0mdefault\u001b[0m\u001b[1;33m=\u001b[0m\u001b[0mget_json_type\u001b[0m\u001b[1;33m,\u001b[0m \u001b[1;33m**\u001b[0m\u001b[0mkwargs\u001b[0m\u001b[1;33m)\u001b[0m\u001b[1;33m\u001b[0m\u001b[0m\n\u001b[0;32m   1501\u001b[0m \u001b[1;33m\u001b[0m\u001b[0m\n",
      "\u001b[1;32mc:\\users\\johnr\\anaconda3\\envs\\python35gpu\\lib\\site-packages\\tensorflow\\python\\keras\\engine\\network.py\u001b[0m in \u001b[0;36m_updated_config\u001b[1;34m(self)\u001b[0m\n\u001b[0;32m   1464\u001b[0m     \u001b[1;32mfrom\u001b[0m \u001b[0mtensorflow\u001b[0m\u001b[1;33m.\u001b[0m\u001b[0mpython\u001b[0m\u001b[1;33m.\u001b[0m\u001b[0mkeras\u001b[0m \u001b[1;32mimport\u001b[0m \u001b[0m__version__\u001b[0m \u001b[1;32mas\u001b[0m \u001b[0mkeras_version\u001b[0m  \u001b[1;31m# pylint: disable=g-import-not-at-top\u001b[0m\u001b[1;33m\u001b[0m\u001b[0m\n\u001b[0;32m   1465\u001b[0m \u001b[1;33m\u001b[0m\u001b[0m\n\u001b[1;32m-> 1466\u001b[1;33m     \u001b[0mconfig\u001b[0m \u001b[1;33m=\u001b[0m \u001b[0mself\u001b[0m\u001b[1;33m.\u001b[0m\u001b[0mget_config\u001b[0m\u001b[1;33m(\u001b[0m\u001b[1;33m)\u001b[0m\u001b[1;33m\u001b[0m\u001b[0m\n\u001b[0m\u001b[0;32m   1467\u001b[0m     model_config = {\n\u001b[0;32m   1468\u001b[0m         \u001b[1;34m'class_name'\u001b[0m\u001b[1;33m:\u001b[0m \u001b[0mself\u001b[0m\u001b[1;33m.\u001b[0m\u001b[0m__class__\u001b[0m\u001b[1;33m.\u001b[0m\u001b[0m__name__\u001b[0m\u001b[1;33m,\u001b[0m\u001b[1;33m\u001b[0m\u001b[0m\n",
      "\u001b[1;32mc:\\users\\johnr\\anaconda3\\envs\\python35gpu\\lib\\site-packages\\tensorflow\\python\\keras\\engine\\sequential.py\u001b[0m in \u001b[0;36mget_config\u001b[1;34m(self)\u001b[0m\n\u001b[0;32m    283\u001b[0m       config.append({\n\u001b[0;32m    284\u001b[0m           \u001b[1;34m'class_name'\u001b[0m\u001b[1;33m:\u001b[0m \u001b[0mlayer\u001b[0m\u001b[1;33m.\u001b[0m\u001b[0m__class__\u001b[0m\u001b[1;33m.\u001b[0m\u001b[0m__name__\u001b[0m\u001b[1;33m,\u001b[0m\u001b[1;33m\u001b[0m\u001b[0m\n\u001b[1;32m--> 285\u001b[1;33m           \u001b[1;34m'config'\u001b[0m\u001b[1;33m:\u001b[0m \u001b[0mlayer\u001b[0m\u001b[1;33m.\u001b[0m\u001b[0mget_config\u001b[0m\u001b[1;33m(\u001b[0m\u001b[1;33m)\u001b[0m\u001b[1;33m\u001b[0m\u001b[0m\n\u001b[0m\u001b[0;32m    286\u001b[0m       })\n\u001b[0;32m    287\u001b[0m     \u001b[1;32mreturn\u001b[0m \u001b[0mcopy\u001b[0m\u001b[1;33m.\u001b[0m\u001b[0mdeepcopy\u001b[0m\u001b[1;33m(\u001b[0m\u001b[0mconfig\u001b[0m\u001b[1;33m)\u001b[0m\u001b[1;33m\u001b[0m\u001b[0m\n",
      "\u001b[1;32mc:\\users\\johnr\\anaconda3\\envs\\python35gpu\\lib\\site-packages\\tensorflow\\python\\keras\\layers\\core.py\u001b[0m in \u001b[0;36mget_config\u001b[1;34m(self)\u001b[0m\n\u001b[0;32m    723\u001b[0m       \u001b[0mfunction_type\u001b[0m \u001b[1;33m=\u001b[0m \u001b[1;34m'lambda'\u001b[0m\u001b[1;33m\u001b[0m\u001b[0m\n\u001b[0;32m    724\u001b[0m     \u001b[1;32melse\u001b[0m\u001b[1;33m:\u001b[0m\u001b[1;33m\u001b[0m\u001b[0m\n\u001b[1;32m--> 725\u001b[1;33m       \u001b[0mfunction\u001b[0m \u001b[1;33m=\u001b[0m \u001b[0mself\u001b[0m\u001b[1;33m.\u001b[0m\u001b[0mfunction\u001b[0m\u001b[1;33m.\u001b[0m\u001b[0m__name__\u001b[0m\u001b[1;33m\u001b[0m\u001b[0m\n\u001b[0m\u001b[0;32m    726\u001b[0m       \u001b[0mfunction_type\u001b[0m \u001b[1;33m=\u001b[0m \u001b[1;34m'function'\u001b[0m\u001b[1;33m\u001b[0m\u001b[0m\n\u001b[0;32m    727\u001b[0m \u001b[1;33m\u001b[0m\u001b[0m\n",
      "\u001b[1;31mAttributeError\u001b[0m: 'Module' object has no attribute '__name__'"
     ]
    }
   ],
   "source": [
    "model2.save_weights('model2.h5')\n",
    "\n",
    "model_json = model2.to_json()\n",
    "with open(\"model2_arch.json\", \"w\") as json_file:\n",
    "    json_file.write(model_json)\n"
   ]
  },
  {
   "cell_type": "markdown",
   "metadata": {},
   "source": [
    "# Model 3 - Resize as 1st layer of model"
   ]
  },
  {
   "cell_type": "code",
   "execution_count": 14,
   "metadata": {},
   "outputs": [
    {
     "name": "stdout",
     "output_type": "stream",
     "text": [
      "INFO:tensorflow:Saver not created because there are no variables in the graph to restore\n"
     ]
    },
    {
     "name": "stderr",
     "output_type": "stream",
     "text": [
      "I0313 00:24:12.121082 12248 tf_logging.py:115] Saver not created because there are no variables in the graph to restore\n"
     ]
    },
    {
     "name": "stdout",
     "output_type": "stream",
     "text": [
      "_________________________________________________________________\n",
      "Layer (type)                 Output Shape              Param #   \n",
      "=================================================================\n",
      "lambda_4 (Lambda)            (None, 128, 128, 3)       0         \n",
      "_________________________________________________________________\n",
      "lambda_5 (Lambda)            (None, 1280)              0         \n",
      "_________________________________________________________________\n",
      "dense_1 (Dense)              (None, 95)                121695    \n",
      "=================================================================\n",
      "Total params: 121,695\n",
      "Trainable params: 121,695\n",
      "Non-trainable params: 0\n",
      "_________________________________________________________________\n"
     ]
    }
   ],
   "source": [
    "resize_layer = tf.keras.layers.Lambda(lambda x: tf.image.resize_images(x, (128,128)), input_shape = (100,100,3))\n",
    "FeatureVector128 = tf.keras.layers.Lambda(module, input_shape = IMAGE_SIZE+[3])\n",
    "\n",
    "model3 = tf.keras.Sequential()\n",
    "model3.add(resize_layer)\n",
    "model3.add(FeatureVector128)\n",
    "model3.add(Dense(95, activation='softmax'))\n",
    "model3.compile(optimizer='rmsprop',\n",
    "              loss='sparse_categorical_crossentropy',\n",
    "              metrics=['accuracy'])  \n",
    "\n",
    "model3.summary()"
   ]
  },
  {
   "cell_type": "code",
   "execution_count": 15,
   "metadata": {},
   "outputs": [],
   "source": [
    "sess = K.get_session()\n",
    "init = tf.global_variables_initializer()\n",
    "\n",
    "sess.run(init)"
   ]
  },
  {
   "cell_type": "code",
   "execution_count": 16,
   "metadata": {},
   "outputs": [
    {
     "name": "stdout",
     "output_type": "stream",
     "text": [
      "Train on 3750 samples, validate on 1250 samples\n",
      "Epoch 1/10\n",
      "3750/3750 [==============================] - 65s 17ms/step - loss: 1.3708 - acc: 0.7432 - val_loss: 0.3016 - val_acc: 0.9592\n",
      "Epoch 2/10\n",
      "3750/3750 [==============================] - 8s 2ms/step - loss: 0.1509 - acc: 0.9824 - val_loss: 0.0934 - val_acc: 0.9896\n",
      "Epoch 3/10\n",
      "3750/3750 [==============================] - 8s 2ms/step - loss: 0.0509 - acc: 0.9957 - val_loss: 0.0457 - val_acc: 0.9912\n",
      "Epoch 4/10\n",
      "3750/3750 [==============================] - 8s 2ms/step - loss: 0.0231 - acc: 0.9979 - val_loss: 0.0361 - val_acc: 0.9928\n",
      "Epoch 5/10\n",
      "3750/3750 [==============================] - 8s 2ms/step - loss: 0.0127 - acc: 0.9995 - val_loss: 0.0230 - val_acc: 0.9960\n",
      "Epoch 6/10\n",
      "3750/3750 [==============================] - 8s 2ms/step - loss: 0.0078 - acc: 0.9989 - val_loss: 0.0168 - val_acc: 0.9960\n",
      "Epoch 7/10\n",
      "3750/3750 [==============================] - 8s 2ms/step - loss: 0.0048 - acc: 0.9997 - val_loss: 0.0117 - val_acc: 0.9976\n",
      "Epoch 8/10\n",
      "3750/3750 [==============================] - 8s 2ms/step - loss: 0.0034 - acc: 0.9995 - val_loss: 0.0117 - val_acc: 0.9960\n",
      "Epoch 9/10\n",
      "3750/3750 [==============================] - 8s 2ms/step - loss: 0.0023 - acc: 0.9997 - val_loss: 0.0115 - val_acc: 0.9960\n",
      "Epoch 10/10\n",
      "3750/3750 [==============================] - 8s 2ms/step - loss: 0.0017 - acc: 0.9997 - val_loss: 0.0092 - val_acc: 0.9968\n"
     ]
    }
   ],
   "source": [
    "history = model3.fit(X_train, y_train,\n",
    "                     validation_data = (X_val, y_val),\n",
    "                     #callbacks=[cp_callback],\n",
    "                    epochs=10)"
   ]
  },
  {
   "cell_type": "code",
   "execution_count": 19,
   "metadata": {},
   "outputs": [
    {
     "name": "stdout",
     "output_type": "stream",
     "text": [
      "1000/1000 [==============================] - 2s 2ms/step\n"
     ]
    },
    {
     "data": {
      "text/plain": [
       "[0.07481057525950019, 0.98]"
      ]
     },
     "execution_count": 19,
     "metadata": {},
     "output_type": "execute_result"
    }
   ],
   "source": [
    "model3.evaluate(X_test, y_test)"
   ]
  },
  {
   "cell_type": "markdown",
   "metadata": {},
   "source": [
    "# Data Augmentation code"
   ]
  },
  {
   "cell_type": "code",
   "execution_count": 30,
   "metadata": {},
   "outputs": [],
   "source": [
    "from keras.preprocessing.image import ImageDataGenerator\n",
    "\n",
    "datagen = ImageDataGenerator(\n",
    "    #featurewise_center=True,\n",
    "    #featurewise_std_normalization=True,\n",
    "    rotation_range=20,\n",
    "    #width_shift_range=0.2,\n",
    "    #height_shift_range=0.2,\n",
    "    horizontal_flip=True)\n",
    "\n",
    "datagen.fit(X_train)"
   ]
  },
  {
   "cell_type": "code",
   "execution_count": 31,
   "metadata": {
    "scrolled": false
   },
   "outputs": [
    {
     "name": "stdout",
     "output_type": "stream",
     "text": [
      "Epoch 1/5\n",
      "118/117 [==============================] - 12s 104ms/step - loss: 5.8917 - acc: 0.5285 - val_loss: 3.7449 - val_acc: 0.6880\n",
      "Epoch 2/5\n",
      "118/117 [==============================] - 12s 99ms/step - loss: 2.3724 - acc: 0.7902 - val_loss: 1.8861 - val_acc: 0.8296\n",
      "Epoch 3/5\n",
      "118/117 [==============================] - 12s 99ms/step - loss: 1.4334 - acc: 0.8692 - val_loss: 1.2959 - val_acc: 0.8840\n",
      "Epoch 4/5\n",
      "118/117 [==============================] - 12s 98ms/step - loss: 1.0730 - acc: 0.9080 - val_loss: 1.0567 - val_acc: 0.9064\n",
      "Epoch 5/5\n",
      "118/117 [==============================] - 12s 99ms/step - loss: 0.9211 - acc: 0.9244 - val_loss: 0.9297 - val_acc: 0.9168\n"
     ]
    },
    {
     "data": {
      "text/plain": [
       "<tensorflow.python.keras.callbacks.History at 0x125115f7278>"
      ]
     },
     "execution_count": 31,
     "metadata": {},
     "output_type": "execute_result"
    }
   ],
   "source": [
    "model3.fit_generator(datagen.flow(X_train, y_train, batch_size=32),\n",
    "                    steps_per_epoch=len(X_train) / 32, epochs=5,\n",
    "                    validation_data = (X_val, y_val))"
   ]
  },
  {
   "cell_type": "code",
   "execution_count": 32,
   "metadata": {},
   "outputs": [
    {
     "name": "stdout",
     "output_type": "stream",
     "text": [
      "1000/1000 [==============================] - 2s 2ms/step\n"
     ]
    },
    {
     "data": {
      "text/plain": [
       "[1.093194827687228, 0.886]"
      ]
     },
     "execution_count": 32,
     "metadata": {},
     "output_type": "execute_result"
    }
   ],
   "source": [
    "model3.evaluate(X_test, y_test)"
   ]
  },
  {
   "cell_type": "code",
   "execution_count": null,
   "metadata": {},
   "outputs": [],
   "source": [
    "plt_history(model3)"
   ]
  },
  {
   "cell_type": "markdown",
   "metadata": {},
   "source": [
    "### CIFAR 100 dataset"
   ]
  },
  {
   "cell_type": "code",
   "execution_count": 90,
   "metadata": {},
   "outputs": [
    {
     "name": "stderr",
     "output_type": "stream",
     "text": [
      "Using TensorFlow backend.\n"
     ]
    }
   ],
   "source": [
    "from keras.datasets import cifar100"
   ]
  },
  {
   "cell_type": "code",
   "execution_count": 91,
   "metadata": {},
   "outputs": [
    {
     "name": "stdout",
     "output_type": "stream",
     "text": [
      "Downloading data from https://www.cs.toronto.edu/~kriz/cifar-100-python.tar.gz\n",
      "169009152/169001437 [==============================] - 116s 1us/step\n"
     ]
    }
   ],
   "source": [
    "(X_cifar_train, y_cifar_train), (X_cifar_test, y_cifar_test) = cifar100.load_data()"
   ]
  },
  {
   "cell_type": "code",
   "execution_count": 110,
   "metadata": {},
   "outputs": [],
   "source": [
    "apples = X_cifar_train[(y_cifar_train==0)[:,0],:,:,:]"
   ]
  },
  {
   "cell_type": "code",
   "execution_count": 116,
   "metadata": {},
   "outputs": [],
   "source": [
    "n = 500\n",
    "apples_test128 = tf.image.resize_images(X_test[0:n,:], (128,128)).eval(session=sess)\n",
    "\n"
   ]
  },
  {
   "cell_type": "code",
   "execution_count": 118,
   "metadata": {},
   "outputs": [
    {
     "data": {
      "text/plain": [
       "array(['Banana Lady Finger', 'Banana', 'Banana', 'Apricot',\n",
       "       'Tomato Cherry Red', 'Mulberry', 'Tomato 4', 'Limes', 'Dates',\n",
       "       'Cherry Rainier', 'Pear Monster', 'Grape Pink', 'Nectarine',\n",
       "       'Cherry Rainier', 'Pear', 'Grape Pink', 'Tomato 1', 'Maracuja',\n",
       "       'Cherry Wax Red', 'Tamarillo', 'Tomato Cherry Red',\n",
       "       'Cherry Rainier', 'Clementine', 'Pineapple', 'Strawberry',\n",
       "       'Redcurrant', 'Clementine', 'Apple Granny Smith', 'Mango',\n",
       "       'Apricot', 'Tomato 2', 'Passion Fruit', 'Banana', 'Guava',\n",
       "       'Chestnut', 'Apple Golden 3', 'Passion Fruit', 'Physalis',\n",
       "       'Tomato 2', 'Pear Monster', 'Lemon', 'Tomato Cherry Red', 'Orange',\n",
       "       'Tomato Cherry Red', 'Huckleberry', 'Apple Granny Smith',\n",
       "       'Passion Fruit', 'Cherry Rainier', 'Cherry 1', 'Pear Monster',\n",
       "       'Nectarine', 'Peach 2', 'Tomato Cherry Red', 'Hazelnut',\n",
       "       'Huckleberry', 'Tomato 2', 'Grapefruit Pink', 'Peach Flat', 'Pear',\n",
       "       'Cherry 1', 'Pitahaya Red', 'Cocos', 'Strawberry Wedge',\n",
       "       'Mandarine', 'Walnut', 'Tomato 2', 'Pear Monster', 'Grape White',\n",
       "       'Grape Blue', 'Peach 2', 'Peach', 'Pear Williams', 'Grape Blue',\n",
       "       'Granadilla', 'Apple Red 2', 'Apricot', 'Papaya', 'Banana',\n",
       "       'Pomelo Sweetie', 'Avocado ripe', 'Strawberry', 'Pear Monster',\n",
       "       'Physalis', 'Strawberry Wedge', 'Granadilla', 'Plum 2', 'Peach 2',\n",
       "       'Cocos', 'Apple Golden 2', 'Cactus fruit', 'Walnut',\n",
       "       'Banana Lady Finger', 'Orange', 'Tangelo', 'Mandarine',\n",
       "       'Carambula', 'Clementine', 'Plum 3', 'Peach', 'Cocos', 'Tomato 4',\n",
       "       'Papaya', 'Redcurrant', 'Cantaloupe 1', 'Mango', 'Physalis',\n",
       "       'Rambutan', 'Apple Red 3', 'Walnut', 'Mandarine', 'Dates',\n",
       "       'Pepino', 'Grape White 3', 'Apple Granny Smith', 'Hazelnut',\n",
       "       'Pear Kaiser', 'Mulberry', 'Apple Braeburn', 'Grapefruit White',\n",
       "       'Grape White', 'Apple Golden 1', 'Pomegranate', 'Tomato 1',\n",
       "       'Granadilla', 'Grape White', 'Cactus fruit', 'Apple Granny Smith',\n",
       "       'Pear', 'Avocado ripe', 'Apple Red Yellow 1', 'Peach', 'Walnut',\n",
       "       'Grapefruit Pink', 'Passion Fruit', 'Melon Piel de Sapo',\n",
       "       'Apple Braeburn', 'Plum', 'Grape Blue', 'Cherry Wax Black',\n",
       "       'Maracuja', 'Tomato 3', 'Guava', 'Grapefruit Pink', 'Guava',\n",
       "       'Melon Piel de Sapo', 'Mulberry', 'Tangelo', 'Carambula',\n",
       "       'Grape White 3', 'Redcurrant', 'Tomato Maroon', 'Rambutan',\n",
       "       'Physalis with Husk', 'Pear', 'Plum 2', 'Cherry Rainier',\n",
       "       'Apple Red 3', 'Tomato 2', 'Tomato 2', 'Pineapple Mini',\n",
       "       'Tomato 4', 'Strawberry Wedge', 'Plum 3', 'Walnut',\n",
       "       'Pomelo Sweetie', 'Cherry 1', 'Rambutan', 'Avocado ripe',\n",
       "       'Strawberry', 'Apple Braeburn', 'Mandarine', 'Tamarillo', 'Lychee',\n",
       "       'Cherry Rainier', 'Tomato 3', 'Physalis with Husk', 'Tamarillo',\n",
       "       'Apple Golden 1', 'Granadilla', 'Mulberry', 'Apple Red 2',\n",
       "       'Tomato 2', 'Salak', 'Tangelo', 'Chestnut', 'Pear Abate',\n",
       "       'Mulberry', 'Avocado ripe', 'Mulberry', 'Avocado', 'Mandarine',\n",
       "       'Pineapple', 'Grape Blue', 'Cherry Rainier', 'Clementine',\n",
       "       'Orange', 'Papaya', 'Pear', 'Pineapple Mini', 'Apple Red Yellow 2',\n",
       "       'Quince', 'Dates', 'Apple Red 2', 'Physalis with Husk',\n",
       "       'Melon Piel de Sapo', 'Plum 3', 'Cherry Rainier',\n",
       "       'Apple Red Yellow 2', 'Apple Golden 2', 'Banana Red', 'Peach',\n",
       "       'Apple Golden 1', 'Guava', 'Chestnut', 'Pitahaya Red', 'Pepino',\n",
       "       'Lemon Meyer', 'Plum', 'Peach Flat', 'Guava', 'Mandarine',\n",
       "       'Grapefruit Pink', 'Grape White 2', 'Grape White 2',\n",
       "       'Passion Fruit', 'Apple Red 2', 'Avocado ripe', 'Avocado',\n",
       "       'Cherry Wax Black', 'Lychee', 'Plum 3', 'Cactus fruit', 'Kaki',\n",
       "       'Melon Piel de Sapo', 'Banana Lady Finger', 'Tangelo',\n",
       "       'Pitahaya Red', 'Kumquats', 'Banana', 'Dates', 'Kiwi',\n",
       "       'Strawberry', 'Cherry 1', 'Apple Red 2', 'Plum', 'Apple Golden 3',\n",
       "       'Mangostan', 'Apple Braeburn', 'Cherry 2', 'Apricot', 'Mandarine',\n",
       "       'Apple Red Yellow 2', 'Grape Blue', 'Apple Golden 1',\n",
       "       'Apple Granny Smith', 'Grape White 2', 'Pear Monster',\n",
       "       'Grape Blue', 'Tomato 3', 'Walnut', 'Apple Red Yellow 2',\n",
       "       'Avocado', 'Cherry Wax Black', 'Pear Kaiser', 'Cherry 2',\n",
       "       'Cherry Wax Yellow', 'Mandarine', 'Pear Williams', 'Kiwi',\n",
       "       'Banana Red', 'Tomato 3', 'Plum', 'Peach Flat', 'Pitahaya Red',\n",
       "       'Mandarine', 'Tomato 1', 'Grape Pink', 'Grape Blue',\n",
       "       'Apple Golden 3', 'Cherry Wax Yellow', 'Avocado', 'Huckleberry',\n",
       "       'Dates', 'Maracuja', 'Pear Kaiser', 'Grape Pink', 'Cherry 1',\n",
       "       'Lemon Meyer', 'Plum 3', 'Apple Red 2', 'Hazelnut',\n",
       "       'Grape White 2', 'Plum', 'Tomato Cherry Red', 'Tomato 3',\n",
       "       'Cherry Wax Red', 'Apple Red 2', 'Grape White 3', 'Apple Red 2',\n",
       "       'Peach', 'Pomegranate', 'Kiwi', 'Carambula', 'Melon Piel de Sapo',\n",
       "       'Cantaloupe 2', 'Kumquats', 'Cocos', 'Pear', 'Apple Red Delicious',\n",
       "       'Rambutan', 'Rambutan', 'Carambula', 'Cocos', 'Pineapple Mini',\n",
       "       'Hazelnut', 'Cherry Wax Yellow', 'Banana Red', 'Limes', 'Hazelnut',\n",
       "       'Tamarillo', 'Pear Monster', 'Grape Blue', 'Pitahaya Red',\n",
       "       'Physalis', 'Grape Blue', 'Pepino', 'Pear Williams', 'Cocos',\n",
       "       'Cantaloupe 1', 'Apple Red 2', 'Pepino', 'Tomato 3', 'Mandarine',\n",
       "       'Tomato Maroon', 'Pear Williams', 'Apple Red Yellow 1',\n",
       "       'Cherry Rainier', 'Cherry Rainier', 'Mangostan', 'Tomato 1',\n",
       "       'Apple Golden 3', 'Lemon', 'Melon Piel de Sapo', 'Cherry Rainier',\n",
       "       'Apple Red Delicious', 'Kiwi', 'Limes', 'Grapefruit White',\n",
       "       'Melon Piel de Sapo', 'Grape White 4', 'Apple Granny Smith',\n",
       "       'Cherry Wax Yellow', 'Kumquats', 'Grapefruit White',\n",
       "       'Tomato Maroon', 'Apple Golden 2', 'Peach', 'Cherry 2',\n",
       "       'Grape White 2', 'Pear Williams', 'Cherry Rainier', 'Pear Kaiser',\n",
       "       'Pitahaya Red', 'Apple Braeburn', 'Passion Fruit', 'Banana',\n",
       "       'Apple Red Yellow 2', 'Cactus fruit', 'Hazelnut', 'Tamarillo',\n",
       "       'Carambula', 'Walnut', 'Apple Red Yellow 1', 'Kiwi',\n",
       "       'Banana Lady Finger', 'Cherry Wax Yellow', 'Cherry 1', 'Cherry 2',\n",
       "       'Cantaloupe 2', 'Cantaloupe 2', 'Apple Red Delicious',\n",
       "       'Strawberry Wedge', 'Cactus fruit', 'Grape Blue', 'Apple Braeburn',\n",
       "       'Tomato Maroon', 'Tomato 2', 'Cherry 2', 'Maracuja', 'Kiwi',\n",
       "       'Tomato 1', 'Pomegranate', 'Physalis with Husk', 'Banana Red',\n",
       "       'Cactus fruit', 'Granadilla', 'Limes', 'Pear Kaiser',\n",
       "       'Cactus fruit', 'Pepino', 'Carambula', 'Apple Red 2',\n",
       "       'Apple Golden 2', 'Plum', 'Grape Blue', 'Tomato 1', 'Lemon Meyer',\n",
       "       'Quince', 'Cherry Rainier', 'Cherry 1', 'Grape White 4',\n",
       "       'Strawberry Wedge', 'Tangelo', 'Papaya', 'Tomato 1', 'Guava',\n",
       "       'Tomato 4', 'Apple Red Yellow 1', 'Mangostan', 'Redcurrant',\n",
       "       'Cherry Wax Black', 'Clementine', 'Cherry Wax Yellow',\n",
       "       'Grape White 3', 'Grape White 3', 'Carambula', 'Rambutan',\n",
       "       'Apple Red Yellow 1', 'Apple Granny Smith', 'Melon Piel de Sapo',\n",
       "       'Tomato 4', 'Limes', 'Carambula', 'Pomegranate', 'Tomato 3',\n",
       "       'Peach', 'Apple Red 2', 'Physalis', 'Pear Kaiser', 'Hazelnut',\n",
       "       'Clementine', 'Apricot', 'Apple Braeburn', 'Huckleberry', 'Lemon',\n",
       "       'Pear Monster', 'Apple Red 2', 'Apricot', 'Kaki', 'Strawberry',\n",
       "       'Cocos', 'Cherry 2', 'Redcurrant', 'Pear Williams', 'Apple Red 1',\n",
       "       'Apple Braeburn', 'Mandarine', 'Pitahaya Red', 'Pineapple Mini',\n",
       "       'Tomato 1', 'Limes', 'Apple Braeburn', 'Hazelnut',\n",
       "       'Apple Braeburn', 'Avocado ripe', 'Quince', 'Cocos', 'Strawberry',\n",
       "       'Cherry 1', 'Tomato 1', 'Tamarillo', 'Carambula', 'Pitahaya Red',\n",
       "       'Pear Monster', 'Orange', 'Pomelo Sweetie', 'Melon Piel de Sapo',\n",
       "       'Strawberry', 'Salak', 'Pear Williams', 'Kumquats', 'Kaki',\n",
       "       'Apple Red 2', 'Plum 2', 'Apple Golden 3', 'Plum 2', 'Lemon Meyer',\n",
       "       'Clementine', 'Pear', 'Tomato Cherry Red', 'Mulberry',\n",
       "       'Grape White 3', 'Grape White 3', 'Passion Fruit', 'Pear Monster',\n",
       "       'Cactus fruit', 'Grape Pink', 'Cocos', 'Mandarine', 'Peach'],\n",
       "      dtype=object)"
      ]
     },
     "execution_count": 118,
     "metadata": {},
     "output_type": "execute_result"
    }
   ],
   "source": [
    "label_encoder.inverse_transform(model2.predict_classes(apples_test128))"
   ]
  },
  {
   "cell_type": "code",
   "execution_count": 94,
   "metadata": {},
   "outputs": [],
   "source": [
    "CIFAR100_LABELS_LIST = [\n",
    "    'apple', 'aquarium_fish', 'baby', 'bear', 'beaver', 'bed', 'bee', 'beetle', \n",
    "    'bicycle', 'bottle', 'bowl', 'boy', 'bridge', 'bus', 'butterfly', 'camel', \n",
    "    'can', 'castle', 'caterpillar', 'cattle', 'chair', 'chimpanzee', 'clock', \n",
    "    'cloud', 'cockroach', 'couch', 'crab', 'crocodile', 'cup', 'dinosaur', \n",
    "    'dolphin', 'elephant', 'flatfish', 'forest', 'fox', 'girl', 'hamster', \n",
    "    'house', 'kangaroo', 'keyboard', 'lamp', 'lawn_mower', 'leopard', 'lion',\n",
    "    'lizard', 'lobster', 'man', 'maple_tree', 'motorcycle', 'mountain', 'mouse',\n",
    "    'mushroom', 'oak_tree', 'orange', 'orchid', 'otter', 'palm_tree', 'pear',\n",
    "    'pickup_truck', 'pine_tree', 'plain', 'plate', 'poppy', 'porcupine',\n",
    "    'possum', 'rabbit', 'raccoon', 'ray', 'road', 'rocket', 'rose',\n",
    "    'sea', 'seal', 'shark', 'shrew', 'skunk', 'skyscraper', 'snail', 'snake',\n",
    "    'spider', 'squirrel', 'streetcar', 'sunflower', 'sweet_pepper', 'table',\n",
    "    'tank', 'telephone', 'television', 'tiger', 'tractor', 'train', 'trout',\n",
    "    'tulip', 'turtle', 'wardrobe', 'whale', 'willow_tree', 'wolf', 'woman',\n",
    "    'worm'\n",
    "]\n",
    "\n"
   ]
  },
  {
   "cell_type": "markdown",
   "metadata": {},
   "source": [
    "## For the bin"
   ]
  }
 ],
 "metadata": {
  "kernelspec": {
   "display_name": "Python 3",
   "language": "python",
   "name": "python3"
  },
  "language_info": {
   "codemirror_mode": {
    "name": "ipython",
    "version": 3
   },
   "file_extension": ".py",
   "mimetype": "text/x-python",
   "name": "python",
   "nbconvert_exporter": "python",
   "pygments_lexer": "ipython3",
   "version": "3.5.0"
  }
 },
 "nbformat": 4,
 "nbformat_minor": 2
}
