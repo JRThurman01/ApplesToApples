{
 "cells": [
  {
   "cell_type": "code",
   "execution_count": 3,
   "metadata": {},
   "outputs": [
    {
     "name": "stdout",
     "output_type": "stream",
     "text": [
      "Epoch 1/20\n",
      "60000/60000 [==============================] - 9s 144us/step - loss: 0.2511 - acc: 0.9248\n",
      "Epoch 2/20\n",
      "60000/60000 [==============================] - 8s 134us/step - loss: 0.1272 - acc: 0.9607\n",
      "Epoch 3/20\n",
      "60000/60000 [==============================] - 8s 135us/step - loss: 0.0972 - acc: 0.9699\n",
      "Epoch 4/20\n",
      "60000/60000 [==============================] - 8s 136us/step - loss: 0.0855 - acc: 0.9733\n",
      "Epoch 5/20\n",
      "60000/60000 [==============================] - 8s 135us/step - loss: 0.0735 - acc: 0.9767\n",
      "Epoch 6/20\n",
      "60000/60000 [==============================] - 8s 136us/step - loss: 0.0679 - acc: 0.9783\n",
      "Epoch 7/20\n",
      "60000/60000 [==============================] - 8s 135us/step - loss: 0.0641 - acc: 0.9804\n",
      "Epoch 8/20\n",
      "60000/60000 [==============================] - 9s 147us/step - loss: 0.0604 - acc: 0.9805\n",
      "Epoch 9/20\n",
      "60000/60000 [==============================] - 9s 150us/step - loss: 0.0531 - acc: 0.9835\n",
      "Epoch 10/20\n",
      "60000/60000 [==============================] - 9s 155us/step - loss: 0.0526 - acc: 0.9839\n",
      "Epoch 11/20\n",
      "60000/60000 [==============================] - 8s 139us/step - loss: 0.0475 - acc: 0.9852\n",
      "Epoch 12/20\n",
      "60000/60000 [==============================] - 9s 151us/step - loss: 0.0483 - acc: 0.9849\n",
      "Epoch 13/20\n",
      "60000/60000 [==============================] - 9s 147us/step - loss: 0.0455 - acc: 0.9854\n",
      "Epoch 14/20\n",
      "60000/60000 [==============================] - 8s 138us/step - loss: 0.0435 - acc: 0.9867\n",
      "Epoch 15/20\n",
      "60000/60000 [==============================] - 8s 136us/step - loss: 0.0380 - acc: 0.9881\n",
      "Epoch 16/20\n",
      "60000/60000 [==============================] - 8s 138us/step - loss: 0.0429 - acc: 0.9870\n",
      "Epoch 17/20\n",
      "60000/60000 [==============================] - 8s 137us/step - loss: 0.0383 - acc: 0.9885\n",
      "Epoch 18/20\n",
      "60000/60000 [==============================] - 8s 138us/step - loss: 0.0382 - acc: 0.9889\n",
      "Epoch 19/20\n",
      "60000/60000 [==============================] - 9s 142us/step - loss: 0.0362 - acc: 0.9892\n",
      "Epoch 20/20\n",
      "60000/60000 [==============================] - 8s 140us/step - loss: 0.0385 - acc: 0.9887\n",
      "10000/10000 [==============================] - 1s 56us/step\n"
     ]
    },
    {
     "data": {
      "text/plain": [
       "[0.07999737706612504, 0.9845]"
      ]
     },
     "execution_count": 3,
     "metadata": {},
     "output_type": "execute_result"
    }
   ],
   "source": [
    "import tensorflow as tf\n",
    "mnist = tf.keras.datasets.mnist\n",
    "\n",
    "(x_train, y_train),(x_test, y_test) = mnist.load_data()\n",
    "x_train, x_test = x_train / 255.0, x_test / 255.0\n",
    "\n",
    "model = tf.keras.models.Sequential([\n",
    "  tf.keras.layers.Flatten(input_shape=(28, 28)),\n",
    "  tf.keras.layers.Dense(1024, activation=tf.nn.relu),\n",
    "  tf.keras.layers.Dropout(0.5),\n",
    "  tf.keras.layers.Dense(25, activation=tf.nn.softmax)\n",
    "])\n",
    "model.compile(optimizer='adam',\n",
    "              loss='sparse_categorical_crossentropy',\n",
    "              metrics=['accuracy'])\n",
    "\n",
    "model.fit(x_train, y_train, epochs=20)\n",
    "model.evaluate(x_test, y_test)"
   ]
  },
  {
   "cell_type": "code",
   "execution_count": 7,
   "metadata": {},
   "outputs": [
    {
     "data": {
      "text/plain": [
       "array([5, 0, 4, ..., 5, 6, 8], dtype=uint8)"
      ]
     },
     "execution_count": 7,
     "metadata": {},
     "output_type": "execute_result"
    }
   ],
   "source": [
    "y_train"
   ]
  },
  {
   "cell_type": "code",
   "execution_count": 1,
   "metadata": {},
   "outputs": [
    {
     "ename": "NameError",
     "evalue": "name 'np' is not defined",
     "output_type": "error",
     "traceback": [
      "\u001b[1;31m---------------------------------------------------------------------------\u001b[0m",
      "\u001b[1;31mNameError\u001b[0m                                 Traceback (most recent call last)",
      "\u001b[1;32m<ipython-input-1-fcc6164df28f>\u001b[0m in \u001b[0;36m<module>\u001b[1;34m\u001b[0m\n\u001b[1;32m----> 1\u001b[1;33m \u001b[0mnp\u001b[0m\u001b[1;33m.\u001b[0m\u001b[0marray\u001b[0m\u001b[1;33m(\u001b[0m\u001b[1;33m[\u001b[0m\u001b[1;36m3\u001b[0m\u001b[1;33m,\u001b[0m\u001b[1;36m4\u001b[0m\u001b[1;33m,\u001b[0m\u001b[1;36m5\u001b[0m\u001b[1;33m]\u001b[0m\u001b[1;33m)\u001b[0m\u001b[1;33m\u001b[0m\u001b[0m\n\u001b[0m",
      "\u001b[1;31mNameError\u001b[0m: name 'np' is not defined"
     ]
    }
   ],
   "source": [
    "x=np.array([3,4,5])"
   ]
  }
 ],
 "metadata": {
  "kernelspec": {
   "display_name": "Python 3",
   "language": "python",
   "name": "python3"
  },
  "language_info": {
   "codemirror_mode": {
    "name": "ipython",
    "version": 3
   },
   "file_extension": ".py",
   "mimetype": "text/x-python",
   "name": "python",
   "nbconvert_exporter": "python",
   "pygments_lexer": "ipython3",
   "version": "3.5.0"
  }
 },
 "nbformat": 4,
 "nbformat_minor": 2
}
